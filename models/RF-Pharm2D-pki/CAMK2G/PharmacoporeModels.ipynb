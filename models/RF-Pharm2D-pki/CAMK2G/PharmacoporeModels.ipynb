{
 "cells": [
  {
   "cell_type": "code",
   "execution_count": 6,
   "metadata": {},
   "outputs": [
    {
     "name": "stderr",
     "output_type": "stream",
     "text": [
      "/Users/leela.dodda/anaconda3/envs/cinf/lib/python3.6/importlib/_bootstrap.py:219: RuntimeWarning: numpy.ufunc size changed, may indicate binary incompatibility. Expected 192 from C header, got 216 from PyObject\n",
      "  return f(*args, **kwds)\n"
     ]
    }
   ],
   "source": [
    "from rdkit import Chem\n",
    "from rdkit.Chem import AllChem, Draw, rdMolDescriptors, rdMolTransforms, PandasTools"
   ]
  },
  {
   "cell_type": "code",
   "execution_count": 7,
   "metadata": {},
   "outputs": [],
   "source": [
    "from rdkit.Chem.Draw import IPythonConsole, MolsToGridImage"
   ]
  },
  {
   "cell_type": "code",
   "execution_count": 8,
   "metadata": {},
   "outputs": [],
   "source": [
    "%matplotlib inline"
   ]
  },
  {
   "cell_type": "code",
   "execution_count": 9,
   "metadata": {},
   "outputs": [],
   "source": [
    "import pandas as pd"
   ]
  },
  {
   "cell_type": "code",
   "execution_count": 11,
   "metadata": {},
   "outputs": [],
   "source": [
    "df = pd.read_csv('../../data/pki/CAMK2G_pki.csv')"
   ]
  },
  {
   "cell_type": "code",
   "execution_count": 13,
   "metadata": {},
   "outputs": [],
   "source": [
    "df['ROMol'] = [Chem.MolFromSmiles(smi) for smi in df.canonical_smiles]"
   ]
  },
  {
   "cell_type": "code",
   "execution_count": 17,
   "metadata": {},
   "outputs": [],
   "source": [
    "from rdkit import Chem\n",
    "from rdkit.Chem.Pharm2D import Gobbi_Pharm2D,Generate\n",
    "m = Chem.MolFromSmiles('OCC=CC(=O)O')\n",
    "fp = Generate.Gen2DFingerprint(m,Gobbi_Pharm2D.factory)"
   ]
  },
  {
   "cell_type": "code",
   "execution_count": 21,
   "metadata": {},
   "outputs": [],
   "source": [
    "df['FPS'] = [Generate.Gen2DFingerprint(m,Gobbi_Pharm2D.factory) for m in df.ROMol]"
   ]
  },
  {
   "cell_type": "code",
   "execution_count": 25,
   "metadata": {},
   "outputs": [
    {
     "ename": "ArgumentError",
     "evalue": "Python argument types in\n    rdkit.DataStructs.cDataStructs.ConvertToNumpyArray(ExplicitBitVect)\ndid not match C++ signature:\n    ConvertToNumpyArray(RDKit::SparseIntVect<unsigned long long> bv, boost::python::api::object destArray)\n    ConvertToNumpyArray(RDKit::SparseIntVect<unsigned int> bv, boost::python::api::object destArray)\n    ConvertToNumpyArray(RDKit::SparseIntVect<long long> bv, boost::python::api::object destArray)\n    ConvertToNumpyArray(RDKit::SparseIntVect<int> bv, boost::python::api::object destArray)\n    ConvertToNumpyArray(RDKit::DiscreteValueVect bv, boost::python::api::object destArray)\n    ConvertToNumpyArray(ExplicitBitVect bv, boost::python::api::object destArray)",
     "output_type": "error",
     "traceback": [
      "\u001b[0;31m---------------------------------------------------------------------------\u001b[0m",
      "\u001b[0;31mArgumentError\u001b[0m                             Traceback (most recent call last)",
      "\u001b[0;32m<ipython-input-25-8d4565c85094>\u001b[0m in \u001b[0;36m<module>\u001b[0;34m\u001b[0m\n\u001b[0;32m----> 1\u001b[0;31m \u001b[0mDataStructs\u001b[0m\u001b[0;34m.\u001b[0m\u001b[0mcDataStructs\u001b[0m\u001b[0;34m.\u001b[0m\u001b[0mConvertToNumpyArray\u001b[0m\u001b[0;34m(\u001b[0m\u001b[0mDataStructs\u001b[0m\u001b[0;34m.\u001b[0m\u001b[0mcDataStructs\u001b[0m\u001b[0;34m.\u001b[0m\u001b[0mConvertToExplicit\u001b[0m\u001b[0;34m(\u001b[0m\u001b[0mfp\u001b[0m\u001b[0;34m)\u001b[0m\u001b[0;34m)\u001b[0m\u001b[0;34m\u001b[0m\u001b[0;34m\u001b[0m\u001b[0m\n\u001b[0m",
      "\u001b[0;31mArgumentError\u001b[0m: Python argument types in\n    rdkit.DataStructs.cDataStructs.ConvertToNumpyArray(ExplicitBitVect)\ndid not match C++ signature:\n    ConvertToNumpyArray(RDKit::SparseIntVect<unsigned long long> bv, boost::python::api::object destArray)\n    ConvertToNumpyArray(RDKit::SparseIntVect<unsigned int> bv, boost::python::api::object destArray)\n    ConvertToNumpyArray(RDKit::SparseIntVect<long long> bv, boost::python::api::object destArray)\n    ConvertToNumpyArray(RDKit::SparseIntVect<int> bv, boost::python::api::object destArray)\n    ConvertToNumpyArray(RDKit::DiscreteValueVect bv, boost::python::api::object destArray)\n    ConvertToNumpyArray(ExplicitBitVect bv, boost::python::api::object destArray)"
     ]
    }
   ],
   "source": [
    "DataStructs.cDataStructs.ConvertToNumpyArray()"
   ]
  },
  {
   "cell_type": "code",
   "execution_count": 28,
   "metadata": {},
   "outputs": [],
   "source": [
    "exp_fp = DataStructs.cDataStructs.ConvertToExplicit(fp)"
   ]
  },
  {
   "cell_type": "code",
   "execution_count": 34,
   "metadata": {},
   "outputs": [],
   "source": [
    "Generate.Gen2DFingerprint?"
   ]
  },
  {
   "cell_type": "code",
   "execution_count": 33,
   "metadata": {},
   "outputs": [
    {
     "data": {
      "text/plain": [
       "39972"
      ]
     },
     "execution_count": 33,
     "metadata": {},
     "output_type": "execute_result"
    }
   ],
   "source": [
    "df['FPS'][100].GetNumBits()"
   ]
  },
  {
   "cell_type": "code",
   "execution_count": 35,
   "metadata": {},
   "outputs": [],
   "source": [
    "import numpy as np\n",
    "def GeneratePharm2DFPS(mol):\n",
    "    fp = Generate.Gen2DFingerprint(m,Gobbi_Pharm2D.factory)\n",
    "    exp_fp = DataStructs.cDataStructs.ConvertToExplicit(fp)\n",
    "    arr = np.zeros((1,))\n",
    "    DataStructs.ConvertToNumpyArray(exp_fp, arr)\n",
    "    return arr"
   ]
  },
  {
   "cell_type": "code",
   "execution_count": 36,
   "metadata": {},
   "outputs": [],
   "source": [
    "df['FPS'] = [GeneratePharm2DFPS(mol) for mol in df.ROMol]"
   ]
  },
  {
   "cell_type": "code",
   "execution_count": 37,
   "metadata": {},
   "outputs": [
    {
     "name": "stderr",
     "output_type": "stream",
     "text": [
      "/Users/leela.dodda/anaconda3/envs/cinf/lib/python3.6/importlib/_bootstrap.py:219: RuntimeWarning: numpy.ufunc size changed, may indicate binary incompatibility. Expected 192 from C header, got 216 from PyObject\n",
      "  return f(*args, **kwds)\n",
      "/Users/leela.dodda/anaconda3/envs/cinf/lib/python3.6/importlib/_bootstrap.py:219: RuntimeWarning: numpy.ufunc size changed, may indicate binary incompatibility. Expected 192 from C header, got 216 from PyObject\n",
      "  return f(*args, **kwds)\n",
      "/Users/leela.dodda/anaconda3/envs/cinf/lib/python3.6/importlib/_bootstrap.py:219: RuntimeWarning: numpy.ufunc size changed, may indicate binary incompatibility. Expected 192 from C header, got 216 from PyObject\n",
      "  return f(*args, **kwds)\n",
      "/Users/leela.dodda/anaconda3/envs/cinf/lib/python3.6/importlib/_bootstrap.py:219: RuntimeWarning: numpy.ufunc size changed, may indicate binary incompatibility. Expected 192 from C header, got 216 from PyObject\n",
      "  return f(*args, **kwds)\n"
     ]
    }
   ],
   "source": [
    "import sklearn"
   ]
  },
  {
   "cell_type": "code",
   "execution_count": 38,
   "metadata": {},
   "outputs": [],
   "source": [
    "X = np.array(list(df.FPS))\n",
    "y = np.array(list(df.pchembl_value))"
   ]
  },
  {
   "cell_type": "code",
   "execution_count": 51,
   "metadata": {},
   "outputs": [],
   "source": [
    "from sklearn.model_selection import train_test_split\n",
    "trainX, testX, trainY, testY = train_test_split(X, y, test_size=0.3)\n",
    "from sklearn.ensemble import RandomForestRegressor\n",
    "from sklearn.model_selection import StratifiedKFold\n",
    "from sklearn.metrics import accuracy_score,mean_squared_error, mean_absolute_error, r2_score"
   ]
  },
  {
   "cell_type": "code",
   "execution_count": 86,
   "metadata": {},
   "outputs": [
    {
     "name": "stdout",
     "output_type": "stream",
     "text": [
      "0.40832253251851813 0.5373711111111109 0.3058887139871067\n",
      "1.1483803677037039 0.8664844444444451 -1.301670966803254\n",
      "0.2425456240740735 0.3974777777777767 -0.15229656707488548\n",
      "0.4128046087996975 0.5216504761904762 0.46876551715893444\n",
      "0.39528585370370467 0.5167444444444451 0.37322539053323767\n",
      "0.4242576537037036 0.5613444444444442 -0.7181060490160787\n",
      "0.17628922571428587 0.36618571428571484 -0.15948618255033686\n",
      "0.38664096825396815 0.5139999999999999 0.3037336477602187\n",
      "0.2785151288888889 0.3823047619047619 0.016237785867323384\n",
      "0.22625223428571412 0.42354285714285717 -1.211742539650872\n"
     ]
    }
   ],
   "source": [
    "rfclf = RandomForestRegressor(n_estimators=50)\n",
    "skf = KFold(n_splits=10)\n",
    "for train, test in skf.split(trainX, trainY):\n",
    "    trainx = trainX[train]\n",
    "    trainy = trainY[train]\n",
    "    testx = trainX[test]\n",
    "    testy = trainY[test]\n",
    "    rfclf.fit(trainx, trainy)\n",
    "    predy = rfclf.predict(testx)\n",
    "    print(mean_squared_error(testy, predy),mean_absolute_error(testy, predy),r2_score(testy, predy))"
   ]
  },
  {
   "cell_type": "code",
   "execution_count": 57,
   "metadata": {},
   "outputs": [],
   "source": [
    "StratifiedKFold?"
   ]
  },
  {
   "cell_type": "code",
   "execution_count": 58,
   "metadata": {},
   "outputs": [],
   "source": [
    "from sklearn.model_selection import KFold"
   ]
  },
  {
   "cell_type": "code",
   "execution_count": 59,
   "metadata": {},
   "outputs": [],
   "source": [
    "KFold?"
   ]
  },
  {
   "cell_type": "code",
   "execution_count": 60,
   "metadata": {},
   "outputs": [],
   "source": [
    "import matplotlib.pyplot as plt"
   ]
  },
  {
   "cell_type": "code",
   "execution_count": 63,
   "metadata": {},
   "outputs": [
    {
     "data": {
      "text/plain": [
       "<matplotlib.collections.PathCollection at 0x132047048>"
      ]
     },
     "execution_count": 63,
     "metadata": {},
     "output_type": "execute_result"
    },
    {
     "data": {
      "image/png": "[encoded data removed]",
      "text/plain": [
       "<Figure size 432x288 with 1 Axes>"
      ]
     },
     "metadata": {
      "needs_background": "light"
     },
     "output_type": "display_data"
    }
   ],
   "source": [
    "plt.scatter(rfclf.predict(trainx),trainy)"
   ]
  },
  {
   "cell_type": "code",
   "execution_count": 65,
   "metadata": {},
   "outputs": [
    {
     "data": {
      "text/plain": [
       "(209, 39972)"
      ]
     },
     "execution_count": 65,
     "metadata": {},
     "output_type": "execute_result"
    }
   ],
   "source": [
    "X.shape"
   ]
  },
  {
   "cell_type": "code",
   "execution_count": 67,
   "metadata": {},
   "outputs": [],
   "source": [
    "df['Morgan_FPS'] = [rdMolDescriptors.GetMorganFingerprintAsBitVect(mol,3,1024) for mol in df.ROMol]"
   ]
  },
  {
   "cell_type": "code",
   "execution_count": 68,
   "metadata": {},
   "outputs": [
    {
     "name": "stdout",
     "output_type": "stream",
     "text": [
      "0.25404719999999936 0.35466666666666513 0.4985910526315801\n",
      "0.3792005333333332 0.4520000000000001 0.20440022379709089\n",
      "0.33939453333333336 0.5054666666666665 0.03165394369769159\n",
      "0.16680926666666665 0.3263333333333334 0.27961449136276406\n",
      "0.23892379999999858 0.4131333333333325 0.45611235329826294\n",
      "0.3074400000000005 0.46293333333333414 0.4301976935749582\n",
      "0.37971264285714235 0.49878571428571383 0.4153218791735417\n",
      "0.4038675714285708 0.47428571428571326 -1.8351734957020032\n",
      "0.16785807142856943 0.3540714285714261 0.6413367273520154\n",
      "0.293446142857143 0.4472857142857141 0.1894666854565945\n"
     ]
    }
   ],
   "source": [
    "X = np.array(list(df.Morgan_FPS))\n",
    "y = np.array(list(df.pchembl_value))\n",
    "trainX, testX, trainY, testY = train_test_split(X, y, test_size=0.3)\n",
    "rfclf = RandomForestRegressor(n_estimators=100)\n",
    "skf = KFold(n_splits=10)\n",
    "for train, test in skf.split(trainX, trainY):\n",
    "    trainx = trainX[train]\n",
    "    trainy = trainY[train]\n",
    "    testx = trainX[test]\n",
    "    testy = trainY[test]\n",
    "    rfclf.fit(trainx, trainy)\n",
    "    predy = rfclf.predict(testx)\n",
    "    print(mean_squared_error(testy, predy),mean_absolute_error(testy, predy),r2_score(testy, predy))"
   ]
  },
  {
   "cell_type": "code",
   "execution_count": 69,
   "metadata": {},
   "outputs": [
    {
     "name": "stdout",
     "output_type": "stream",
     "text": [
      "Automatically created module for IPython interactive environment\n"
     ]
    },
    {
     "name": "stderr",
     "output_type": "stream",
     "text": [
      "/Users/leela.dodda/anaconda3/envs/cinf/lib/python3.6/site-packages/sklearn/base.py:420: FutureWarning: The default value of multioutput (not exposed in score method) will change from 'variance_weighted' to 'uniform_average' in 0.23 to keep consistent with 'metrics.r2_score'. To specify the default value manually and avoid the warning, please either call 'metrics.r2_score' directly or make a custom scorer with 'metrics.make_scorer' (the built-in scorer 'r2' uses multioutput='uniform_average').\n",
      "  \"multioutput='uniform_average').\", FutureWarning)\n"
     ]
    },
    {
     "data": {
      "image/png": "[encoded data removed]",
      "text/plain": [
       "<Figure size 432x288 with 1 Axes>"
      ]
     },
     "metadata": {
      "needs_background": "light"
     },
     "output_type": "display_data"
    }
   ],
   "source": [
    "print(__doc__)\n",
    "\n",
    "# Author: Tim Head <betatim@gmail.com>\n",
    "#\n",
    "# License: BSD 3 clause\n",
    "\n",
    "import numpy as np\n",
    "import matplotlib.pyplot as plt\n",
    "from sklearn.ensemble import RandomForestRegressor\n",
    "from sklearn.model_selection import train_test_split\n",
    "from sklearn.multioutput import MultiOutputRegressor\n",
    "\n",
    "\n",
    "# Create a random dataset\n",
    "rng = np.random.RandomState(1)\n",
    "X = np.sort(200 * rng.rand(600, 1) - 100, axis=0)\n",
    "y = np.array([np.pi * np.sin(X).ravel(), np.pi * np.cos(X).ravel()]).T\n",
    "y += (0.5 - rng.rand(*y.shape))\n",
    "\n",
    "X_train, X_test, y_train, y_test = train_test_split(\n",
    "    X, y, train_size=400, test_size=200, random_state=4)\n",
    "\n",
    "max_depth = 30\n",
    "regr_multirf = MultiOutputRegressor(RandomForestRegressor(n_estimators=100,\n",
    "                                                          max_depth=max_depth,\n",
    "                                                          random_state=0))\n",
    "regr_multirf.fit(X_train, y_train)\n",
    "\n",
    "regr_rf = RandomForestRegressor(n_estimators=100, max_depth=max_depth,\n",
    "                                random_state=2)\n",
    "regr_rf.fit(X_train, y_train)\n",
    "\n",
    "# Predict on new data\n",
    "y_multirf = regr_multirf.predict(X_test)\n",
    "y_rf = regr_rf.predict(X_test)\n",
    "\n",
    "# Plot the results\n",
    "plt.figure()\n",
    "s = 50\n",
    "a = 0.4\n",
    "plt.scatter(y_test[:, 0], y_test[:, 1], edgecolor='k',\n",
    "            c=\"navy\", s=s, marker=\"s\", alpha=a, label=\"Data\")\n",
    "plt.scatter(y_multirf[:, 0], y_multirf[:, 1], edgecolor='k',\n",
    "            c=\"cornflowerblue\", s=s, alpha=a,\n",
    "            label=\"Multi RF score=%.2f\" % regr_multirf.score(X_test, y_test))\n",
    "plt.scatter(y_rf[:, 0], y_rf[:, 1], edgecolor='k',\n",
    "            c=\"c\", s=s, marker=\"^\", alpha=a,\n",
    "            label=\"RF score=%.2f\" % regr_rf.score(X_test, y_test))\n",
    "plt.xlim([-6, 6])\n",
    "plt.ylim([-6, 6])\n",
    "plt.xlabel(\"target 1\")\n",
    "plt.ylabel(\"target 2\")\n",
    "plt.title(\"Comparing random forests and the multi-output meta estimator\")\n",
    "plt.legend()\n",
    "plt.show()"
   ]
  },
  {
   "cell_type": "code",
   "execution_count": 70,
   "metadata": {},
   "outputs": [
    {
     "data": {
      "text/plain": [
       "array([[-3.08936406e-01,  3.02660425e+00],\n",
       "       [-5.55903095e-01, -1.59428840e+00],\n",
       "       [ 1.90460318e+00,  1.47033352e+00],\n",
       "       [ 2.99832337e+00,  6.18085656e-01],\n",
       "       [-2.21067556e-01, -2.72016209e+00],\n",
       "       [ 2.50896921e+00, -1.17573923e+00],\n",
       "       [-2.26583962e+00, -2.00682580e+00],\n",
       "       [ 1.40842092e+00, -2.28295636e+00],\n",
       "       [-3.24681075e+00, -2.62355179e-01],\n",
       "       [ 2.87272154e+00, -5.75007906e-01],\n",
       "       [ 3.11013897e+00, -5.81324558e-02],\n",
       "       [-2.30442113e+00, -1.11698302e+00],\n",
       "       [ 7.62477019e-01, -2.80941101e+00],\n",
       "       [-7.56041079e-01,  2.99599722e+00],\n",
       "       [-2.30413201e+00, -1.11798743e+00],\n",
       "       [-1.94936293e+00, -2.71235730e+00],\n",
       "       [ 3.12800765e+00, -9.85968364e-01],\n",
       "       [ 4.28817089e-01,  2.79381156e+00],\n",
       "       [ 1.92270046e+00,  1.49972490e+00],\n",
       "       [-2.37851030e+00,  2.28854022e+00],\n",
       "       [ 2.29149431e+00, -5.23656019e-01],\n",
       "       [-1.32036252e+00,  2.52700130e+00],\n",
       "       [ 1.69129248e+00,  2.74549858e+00],\n",
       "       [-3.35984732e-01, -3.20489715e+00],\n",
       "       [-3.34645237e+00, -2.98370922e-01],\n",
       "       [ 1.12474293e+00,  2.20177628e+00],\n",
       "       [-2.14047353e+00, -2.37090577e+00],\n",
       "       [ 2.81018435e+00,  1.02073605e+00],\n",
       "       [ 1.62409469e+00, -2.25485294e+00],\n",
       "       [-2.99137265e-01,  3.00087131e+00],\n",
       "       [-2.35611929e+00,  1.56742969e+00],\n",
       "       [-1.73797734e+00,  1.90904504e+00],\n",
       "       [-1.46631806e+00, -2.42497243e+00],\n",
       "       [ 4.62933725e-01, -2.61130637e+00],\n",
       "       [-3.12480061e+00, -8.57043912e-01],\n",
       "       [-1.44162040e+00, -2.53966644e+00],\n",
       "       [ 9.90804279e-01, -2.94598614e+00],\n",
       "       [-2.89063812e+00,  1.15357231e+00],\n",
       "       [ 1.71787854e+00, -1.04529654e+00],\n",
       "       [-2.77764868e+00,  1.13276873e+00],\n",
       "       [-1.52349480e-01, -3.11267290e+00],\n",
       "       [-2.27016151e+00, -1.34064207e+00],\n",
       "       [-1.25370237e+00, -3.12729275e-01],\n",
       "       [ 3.76143836e-01, -2.81162686e+00],\n",
       "       [-2.22718504e+00,  1.58596957e+00],\n",
       "       [-7.06848468e-01, -1.53668091e+00],\n",
       "       [ 2.93359123e+00,  1.45482843e-01],\n",
       "       [ 3.05145858e+00, -4.79991861e-02],\n",
       "       [-1.39217995e+00,  2.13417868e+00],\n",
       "       [ 1.61592518e+00,  2.90216020e+00],\n",
       "       [-2.12242103e+00,  2.25552856e+00],\n",
       "       [ 1.33179206e+00, -2.84433387e+00],\n",
       "       [-2.27422074e+00,  1.69267814e+00],\n",
       "       [ 1.68500450e+00, -2.02974232e+00],\n",
       "       [ 3.15019394e+00,  8.28683907e-01],\n",
       "       [ 2.73608626e+00,  1.00351167e+00],\n",
       "       [ 2.84334939e-01, -3.06962420e+00],\n",
       "       [ 1.74640516e+00, -2.68436669e+00],\n",
       "       [-2.30442113e+00, -1.11698302e+00],\n",
       "       [ 3.10409953e+00,  7.63347033e-01],\n",
       "       [-1.08904052e+00, -9.98345698e-02],\n",
       "       [ 2.99744004e+00, -5.46613715e-01],\n",
       "       [ 2.48850799e+00, -1.82042956e+00],\n",
       "       [-2.75772698e+00,  6.73724466e-01],\n",
       "       [ 2.43260740e+00,  1.24115763e+00],\n",
       "       [ 2.19192543e+00, -1.95926357e+00],\n",
       "       [-2.13311004e+00,  1.72242058e+00],\n",
       "       [ 2.42046821e-02,  3.14133619e+00],\n",
       "       [-2.92260875e+00,  2.47362515e-01],\n",
       "       [ 1.40039698e+00, -3.05940380e+00],\n",
       "       [ 2.50242773e+00,  2.28138376e+00],\n",
       "       [-9.16895634e-01, -2.71665264e+00],\n",
       "       [ 2.92012719e+00, -8.33327197e-01],\n",
       "       [ 2.97717242e+00,  9.09257580e-01],\n",
       "       [ 1.73221989e+00, -1.86547964e+00],\n",
       "       [ 1.83281439e+00,  1.56088139e-01],\n",
       "       [-1.92041729e-01, -2.83567231e+00],\n",
       "       [ 6.59169572e-01,  2.94324605e+00],\n",
       "       [ 3.12800765e+00, -9.85968364e-01],\n",
       "       [ 3.27350597e+00, -1.49052942e-02],\n",
       "       [ 1.97238492e+00, -1.80956069e+00],\n",
       "       [ 9.65121564e-01,  2.33697697e+00],\n",
       "       [ 4.04448012e-01, -2.99902235e+00],\n",
       "       [ 2.48988828e+00, -2.23677164e+00],\n",
       "       [-1.40539984e+00,  2.04074921e+00],\n",
       "       [-9.79660157e-01,  2.82292726e+00],\n",
       "       [-1.98460130e+00, -1.76422080e+00],\n",
       "       [-2.42111857e+00, -1.01459891e+00],\n",
       "       [ 2.92749782e+00,  3.00321944e-01],\n",
       "       [-5.42404130e-01, -3.06685121e+00],\n",
       "       [ 3.07422498e-01,  2.24056857e+00],\n",
       "       [-4.92533627e-01, -2.22691035e+00],\n",
       "       [ 2.52852714e+00,  7.43073401e-01],\n",
       "       [ 1.45585219e+00, -2.62186766e+00],\n",
       "       [ 2.75219789e+00,  4.90526415e-01],\n",
       "       [-2.93031085e+00, -7.94467451e-01],\n",
       "       [ 2.73608626e+00,  1.00351167e+00],\n",
       "       [ 7.41623530e-01, -1.71976319e+00],\n",
       "       [-1.80774122e+00,  2.19108510e+00],\n",
       "       [-7.41979591e-01,  2.93603633e+00],\n",
       "       [-1.97781195e+00, -2.58745134e+00],\n",
       "       [-1.62479848e+00,  2.41363188e+00],\n",
       "       [-6.79920315e-02,  1.23404365e+00],\n",
       "       [ 7.42836129e-01,  2.60977758e+00],\n",
       "       [ 1.90148065e+00,  2.82125800e+00],\n",
       "       [-2.92260875e+00,  2.47362515e-01],\n",
       "       [-1.52063342e+00,  3.08933343e+00],\n",
       "       [-3.16851939e+00,  2.76467792e-03],\n",
       "       [-9.69023974e-02, -2.98721780e+00],\n",
       "       [ 3.11013897e+00, -5.81324558e-02],\n",
       "       [-1.94936293e+00, -2.71235730e+00],\n",
       "       [-3.10107550e+00, -1.26211177e+00],\n",
       "       [-1.27574205e+00, -3.03446369e+00],\n",
       "       [ 2.36581788e+00,  1.23824048e+00],\n",
       "       [ 1.21956854e+00, -2.73128994e+00],\n",
       "       [-2.88995917e+00, -1.61747858e+00],\n",
       "       [ 1.71787854e+00, -1.04529654e+00],\n",
       "       [ 2.27882080e+00,  1.61668283e+00],\n",
       "       [ 2.84338487e+00,  2.80359045e-01],\n",
       "       [-1.72293746e+00,  2.26625797e+00],\n",
       "       [-2.12242103e+00,  2.25552856e+00],\n",
       "       [ 1.14545059e+00,  2.91770213e+00],\n",
       "       [ 2.27477227e+00,  2.51261585e+00],\n",
       "       [-1.72412745e+00, -2.69243004e+00],\n",
       "       [-2.45845811e+00, -1.87529520e+00],\n",
       "       [ 1.10008994e+00, -3.15122945e+00],\n",
       "       [ 2.60854522e+00, -2.08638813e+00],\n",
       "       [-2.61623056e+00, -1.62643288e+00],\n",
       "       [-2.03856236e+00, -1.79606252e+00],\n",
       "       [-5.00406194e-01, -2.07545768e+00],\n",
       "       [-3.07493458e+00, -1.00649525e+00],\n",
       "       [ 1.60702007e+00, -3.08417703e+00],\n",
       "       [-5.00406194e-01, -2.07545768e+00],\n",
       "       [ 1.79657322e+00, -2.04456372e+00],\n",
       "       [ 5.87324950e-01,  2.45438262e+00],\n",
       "       [-2.56596829e+00, -2.22576843e-01],\n",
       "       [-2.96726603e+00,  1.90461804e-01],\n",
       "       [-1.94936293e+00, -2.71235730e+00],\n",
       "       [ 1.71787854e+00, -1.04529654e+00],\n",
       "       [-1.70533435e+00, -2.71493683e+00],\n",
       "       [-1.86708404e+00,  2.20140703e+00],\n",
       "       [-2.45395781e+00,  1.62499829e+00],\n",
       "       [ 3.02823281e+00,  1.03384451e+00],\n",
       "       [ 3.16431372e-01,  1.70195350e+00],\n",
       "       [ 2.83942012e+00, -2.46086031e-01],\n",
       "       [-1.83245274e+00, -2.11655005e+00],\n",
       "       [ 2.88916738e+00, -1.51871937e+00],\n",
       "       [ 2.07969641e+00, -1.95132449e+00],\n",
       "       [ 3.15085693e-01, -2.86262573e+00],\n",
       "       [ 5.87324950e-01,  2.45438262e+00],\n",
       "       [-7.41461801e-01,  2.55657787e+00],\n",
       "       [-2.79664896e+00, -9.05188508e-01],\n",
       "       [ 3.12800765e+00, -9.85968364e-01],\n",
       "       [-2.97524302e+00,  1.11730373e+00],\n",
       "       [ 1.78973249e+00,  4.69237951e-01],\n",
       "       [ 1.68500450e+00, -2.02974232e+00],\n",
       "       [-2.16493780e+00, -3.99497342e-01],\n",
       "       [ 1.92270046e+00,  1.49972490e+00],\n",
       "       [ 1.10983985e+00,  2.62188165e+00],\n",
       "       [ 2.50242773e+00,  2.28138376e+00],\n",
       "       [ 1.51296873e+00,  1.89894585e+00],\n",
       "       [ 2.77255722e+00, -1.06719930e+00],\n",
       "       [ 2.48140824e+00,  2.00544765e+00],\n",
       "       [-2.97524302e+00,  1.11730373e+00],\n",
       "       [ 3.38247109e-01, -3.05881559e+00],\n",
       "       [ 2.29861331e+00,  2.49626079e+00],\n",
       "       [ 1.61162257e+00,  2.42823736e+00],\n",
       "       [-3.56745512e-01,  2.91966553e+00],\n",
       "       [-6.28454018e-01,  3.34380064e+00],\n",
       "       [-2.86761590e+00,  8.93257856e-01],\n",
       "       [-2.90297467e+00, -1.38066101e+00],\n",
       "       [-1.66776923e+00,  2.22825674e+00],\n",
       "       [ 4.08437149e-01,  2.66709352e+00],\n",
       "       [ 2.47443781e+00, -1.28258974e+00],\n",
       "       [-2.07122277e+00, -1.54536037e+00],\n",
       "       [ 2.87889451e+00, -9.39693749e-01],\n",
       "       [-1.44660304e+00, -2.84486021e+00],\n",
       "       [ 1.22342233e+00, -3.00265471e+00],\n",
       "       [ 1.90841373e+00,  2.67336303e+00],\n",
       "       [ 1.62774838e+00, -2.13105426e+00],\n",
       "       [ 2.50896921e+00, -1.17573923e+00],\n",
       "       [-2.39307370e+00, -1.99767693e+00],\n",
       "       [ 2.57409387e+00, -1.08921441e+00],\n",
       "       [ 1.26186874e+00,  8.65491734e-01],\n",
       "       [ 1.43656659e+00,  2.45253932e+00],\n",
       "       [ 1.78722592e+00,  4.86817696e-01],\n",
       "       [-3.08376862e+00, -3.22402848e-01],\n",
       "       [-1.59362048e+00,  2.71106173e+00],\n",
       "       [ 1.93497162e+00,  2.80606584e+00],\n",
       "       [-2.68579009e+00, -1.13690077e+00],\n",
       "       [-3.27080964e+00, -6.17544577e-01],\n",
       "       [ 2.99744004e+00, -5.46613715e-01],\n",
       "       [-1.46631806e+00, -2.42497243e+00],\n",
       "       [-3.21692236e+00, -9.12694795e-01],\n",
       "       [ 2.42372590e+00,  1.02447190e+00],\n",
       "       [-3.21692236e+00, -9.12694795e-01],\n",
       "       [ 2.32141115e+00,  2.03991759e+00],\n",
       "       [ 3.02823281e+00,  1.03384451e+00],\n",
       "       [-5.69866033e-01,  1.44636788e+00],\n",
       "       [-1.97781195e+00, -2.58745134e+00]])"
      ]
     },
     "execution_count": 70,
     "metadata": {},
     "output_type": "execute_result"
    }
   ],
   "source": [
    "y_rf"
   ]
  },
  {
   "cell_type": "code",
   "execution_count": 78,
   "metadata": {},
   "outputs": [],
   "source": [
    "def MACCS2Numpy(m):\n",
    "    fp = rdMolDescriptors.GetMACCSKeysFingerprint(m)\n",
    "    arr = np.zeros((1,))\n",
    "    DataStructs.ConvertToNumpyArray(fp, arr)\n",
    "    return arr    "
   ]
  },
  {
   "cell_type": "code",
   "execution_count": 80,
   "metadata": {},
   "outputs": [],
   "source": [
    "df['MACCS_FP'] = [MACCS2Numpy(m) for m in df.ROMol]"
   ]
  },
  {
   "cell_type": "code",
   "execution_count": 85,
   "metadata": {},
   "outputs": [
    {
     "name": "stdout",
     "output_type": "stream",
     "text": [
      "0.3963542465185179 0.5319644444444438 0.3262337151203799\n",
      "1.1341449648148152 0.8459000000000001 -1.2731392934556687\n",
      "0.2826101917037034 0.4257822222222216 -0.3426371016328822\n",
      "0.4003534743703699 0.5025066666666664 0.48478876839777396\n",
      "0.3583954460000004 0.48679777777777744 0.4317196945031705\n",
      "0.39744040370370387 0.5296666666666666 -0.6095048746100322\n",
      "0.20164728571428575 0.37985714285714345 -0.32627073825503405\n",
      "0.39023191269841273 0.5218809523809521 0.2972670443872756\n",
      "0.2902476282798836 0.373091836734694 -0.025203372551039438\n",
      "0.2599486774603169 0.4444666666666663 -1.541144178664446\n"
     ]
    }
   ],
   "source": [
    "X = np.array(list(df.MACCS_FP))\n",
    "y = np.array(list(df.pchembl_value))\n",
    "trainX, testX, trainY, testY = train_test_split(X, y, test_size=0.3)\n",
    "rfclf = RandomForestRegressor(n_estimators=50)\n",
    "skf = KFold(n_splits=10)\n",
    "for train, test in skf.split(trainX, trainY):\n",
    "    trainx = trainX[train]\n",
    "    trainy = trainY[train]\n",
    "    testx = trainX[test]\n",
    "    testy = trainY[test]\n",
    "    rfclf.fit(trainx, trainy)\n",
    "    predy = rfclf.predict(testx)\n",
    "    print(mean_squared_error(testy, predy),mean_absolute_error(testy, predy),r2_score(testy, predy))"
   ]
  },
  {
   "cell_type": "code",
   "execution_count": null,
   "metadata": {},
   "outputs": [],
   "source": [
    "from rdkit.Chem import DataStructs"
   ]
  }
 ],
 "metadata": {
  "kernelspec": {
   "display_name": "Python 3",
   "language": "python",
   "name": "python3"
  },
  "language_info": {
   "codemirror_mode": {
    "name": "ipython",
    "version": 3
   },
   "file_extension": ".py",
   "mimetype": "text/x-python",
   "name": "python",
   "nbconvert_exporter": "python",
   "pygments_lexer": "ipython3",
   "version": "3.6.9"
  }
 },
 "nbformat": 4,
 "nbformat_minor": 2
}
