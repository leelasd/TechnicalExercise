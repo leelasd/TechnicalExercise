{
 "cells": [
  {
   "cell_type": "code",
   "execution_count": 1,
   "metadata": {},
   "outputs": [],
   "source": [
    "%matplotlib inline"
   ]
  },
  {
   "cell_type": "code",
   "execution_count": 3,
   "metadata": {},
   "outputs": [],
   "source": [
    "import matplotlib.pyplot as plt\n",
    "import pandas as pd\n",
    "import numpy as np "
   ]
  },
  {
   "cell_type": "code",
   "execution_count": 64,
   "metadata": {},
   "outputs": [],
   "source": [
    "def GetDockingStats(filename='../CAMK2G/final_data'):\n",
    "    df = pd.read_csv(filename,header=None,delimiter='--')\n",
    "    df.columns = ['Label','score']\n",
    "    df.score = df.score * -1.0\n",
    "    df['Molid'] = [i.split('_')[1] for i in df.Label]\n",
    "    res = {}\n",
    "    for i, ndf in df.groupby('Molid'):\n",
    "        res[i] = (ndf.score.min(),ndf.score.mean())\n",
    "    res_df = pd.DataFrame(res).T\n",
    "    res_df.columns = ['Max','Mean']\n",
    "    print(res_df)\n",
    "    return df,res_df"
   ]
  },
  {
   "cell_type": "code",
   "execution_count": 65,
   "metadata": {},
   "outputs": [
    {
     "name": "stdout",
     "output_type": "stream",
     "text": [
      "                     Max      Mean\n",
      "DB04060        -8.006505 -7.266108\n",
      "DB04865        -8.504017 -7.675810\n",
      "DB04865Prodrug -9.070188 -7.741005\n",
      "DB07107        -8.465601 -7.925456\n",
      "DB08500        -9.478694 -8.666259\n",
      "DB08503        -8.277260 -7.509696\n",
      "DB08569        -8.911599 -8.225220\n",
      "DB11878        -9.736665 -9.112370\n",
      "DB12964        -8.446317 -7.626054\n"
     ]
    },
    {
     "name": "stderr",
     "output_type": "stream",
     "text": [
      "/Users/leela.dodda/anaconda3/envs/deepchem/lib/python3.7/site-packages/ipykernel_launcher.py:2: ParserWarning: Falling back to the 'python' engine because the 'c' engine does not support regex separators (separators > 1 char and different from '\\s+' are interpreted as regex); you can avoid this warning by specifying engine='python'.\n",
      "  \n"
     ]
    }
   ],
   "source": [
    "gdf, res_gdf = GetDockingStats(filename='../CAMK2G/final_data')"
   ]
  },
  {
   "cell_type": "code",
   "execution_count": 66,
   "metadata": {},
   "outputs": [
    {
     "name": "stdout",
     "output_type": "stream",
     "text": [
      "                      Max      Mean\n",
      "DB04060         -8.182141 -6.983594\n",
      "DB04865         -8.059382 -7.172231\n",
      "DB04865Prodrug  -8.785329 -7.332536\n",
      "DB07107         -8.829986 -8.045576\n",
      "DB08500        -10.393474 -8.642830\n",
      "DB08503         -8.998102 -7.486340\n",
      "DB08569         -9.484718 -8.527456\n",
      "DB11878         -9.651789 -8.416315\n",
      "DB12964         -8.100051 -7.387464\n"
     ]
    },
    {
     "name": "stderr",
     "output_type": "stream",
     "text": [
      "/Users/leela.dodda/anaconda3/envs/deepchem/lib/python3.7/site-packages/ipykernel_launcher.py:2: ParserWarning: Falling back to the 'python' engine because the 'c' engine does not support regex separators (separators > 1 char and different from '\\s+' are interpreted as regex); you can avoid this warning by specifying engine='python'.\n",
      "  \n"
     ]
    }
   ],
   "source": [
    "ddf, res_ddf = GetDockingStats(filename='../CAMK2D/final_data')"
   ]
  },
  {
   "cell_type": "code",
   "execution_count": 67,
   "metadata": {},
   "outputs": [
    {
     "name": "stdout",
     "output_type": "stream",
     "text": [
      "                      Max      Mean\n",
      "DB04060         -7.599298 -7.231420\n",
      "DB04865         -8.502004 -7.048121\n",
      "DB04865Prodrug  -9.019206 -7.496825\n",
      "DB07107         -8.665932 -7.982459\n",
      "DB08500         -9.843508 -8.868802\n",
      "DB08503         -8.453223 -7.713911\n",
      "DB08569         -9.475267 -8.765486\n",
      "DB11878        -11.179766 -9.201013\n",
      "DB12964         -8.863792 -7.668408\n"
     ]
    },
    {
     "name": "stderr",
     "output_type": "stream",
     "text": [
      "/Users/leela.dodda/anaconda3/envs/deepchem/lib/python3.7/site-packages/ipykernel_launcher.py:2: ParserWarning: Falling back to the 'python' engine because the 'c' engine does not support regex separators (separators > 1 char and different from '\\s+' are interpreted as regex); you can avoid this warning by specifying engine='python'.\n",
      "  \n"
     ]
    }
   ],
   "source": [
    "bdf, res_bdf = GetDockingStats(filename='../CAMK2B/final_data')"
   ]
  },
  {
   "cell_type": "code",
   "execution_count": 68,
   "metadata": {},
   "outputs": [
    {
     "name": "stdout",
     "output_type": "stream",
     "text": [
      "                      Max       Mean\n",
      "DB04060         -7.955521  -7.356960\n",
      "DB04865         -9.013485  -7.677907\n",
      "DB04865Prodrug  -9.001321  -7.734680\n",
      "DB07107         -9.282536  -8.753179\n",
      "DB08500        -10.714903  -9.667428\n",
      "DB08503         -9.473125  -8.174741\n",
      "DB08569         -9.421270  -8.894415\n",
      "DB11878        -11.284870 -10.363389\n",
      "DB12964         -8.593839  -7.774321\n"
     ]
    },
    {
     "name": "stderr",
     "output_type": "stream",
     "text": [
      "/Users/leela.dodda/anaconda3/envs/deepchem/lib/python3.7/site-packages/ipykernel_launcher.py:2: ParserWarning: Falling back to the 'python' engine because the 'c' engine does not support regex separators (separators > 1 char and different from '\\s+' are interpreted as regex); you can avoid this warning by specifying engine='python'.\n",
      "  \n"
     ]
    }
   ],
   "source": [
    "adf, res_adf = GetDockingStats(filename='../CAMK2A/final_data')"
   ]
  },
  {
   "cell_type": "code",
   "execution_count": 69,
   "metadata": {},
   "outputs": [],
   "source": [
    "final = pd.concat([res_adf['Max'],res_bdf['Max'],res_ddf['Max'],res_gdf['Max']],axis=1)\n",
    "final.columns = ['A','B','D','G']"
   ]
  },
  {
   "cell_type": "code",
   "execution_count": 70,
   "metadata": {},
   "outputs": [],
   "source": []
  },
  {
   "cell_type": "code",
   "execution_count": 71,
   "metadata": {},
   "outputs": [
    {
     "data": {
      "text/html": [
       "<div>\n",
       "<style scoped>\n",
       "    .dataframe tbody tr th:only-of-type {\n",
       "        vertical-align: middle;\n",
       "    }\n",
       "\n",
       "    .dataframe tbody tr th {\n",
       "        vertical-align: top;\n",
       "    }\n",
       "\n",
       "    .dataframe thead th {\n",
       "        text-align: right;\n",
       "    }\n",
       "</style>\n",
       "<table border=\"1\" class=\"dataframe\">\n",
       "  <thead>\n",
       "    <tr style=\"text-align: right;\">\n",
       "      <th></th>\n",
       "      <th>A</th>\n",
       "      <th>B</th>\n",
       "      <th>D</th>\n",
       "      <th>G</th>\n",
       "    </tr>\n",
       "  </thead>\n",
       "  <tbody>\n",
       "    <tr>\n",
       "      <th>DB04060</th>\n",
       "      <td>-7.955521</td>\n",
       "      <td>-7.599298</td>\n",
       "      <td>-8.182141</td>\n",
       "      <td>-8.006505</td>\n",
       "    </tr>\n",
       "    <tr>\n",
       "      <th>DB04865</th>\n",
       "      <td>-9.013485</td>\n",
       "      <td>-8.502004</td>\n",
       "      <td>-8.059382</td>\n",
       "      <td>-8.504017</td>\n",
       "    </tr>\n",
       "    <tr>\n",
       "      <th>DB04865Prodrug</th>\n",
       "      <td>-9.001321</td>\n",
       "      <td>-9.019206</td>\n",
       "      <td>-8.785329</td>\n",
       "      <td>-9.070188</td>\n",
       "    </tr>\n",
       "    <tr>\n",
       "      <th>DB07107</th>\n",
       "      <td>-9.282536</td>\n",
       "      <td>-8.665932</td>\n",
       "      <td>-8.829986</td>\n",
       "      <td>-8.465601</td>\n",
       "    </tr>\n",
       "    <tr>\n",
       "      <th>DB08500</th>\n",
       "      <td>-10.714903</td>\n",
       "      <td>-9.843508</td>\n",
       "      <td>-10.393474</td>\n",
       "      <td>-9.478694</td>\n",
       "    </tr>\n",
       "    <tr>\n",
       "      <th>DB08503</th>\n",
       "      <td>-9.473125</td>\n",
       "      <td>-8.453223</td>\n",
       "      <td>-8.998102</td>\n",
       "      <td>-8.277260</td>\n",
       "    </tr>\n",
       "    <tr>\n",
       "      <th>DB08569</th>\n",
       "      <td>-9.421270</td>\n",
       "      <td>-9.475267</td>\n",
       "      <td>-9.484718</td>\n",
       "      <td>-8.911599</td>\n",
       "    </tr>\n",
       "    <tr>\n",
       "      <th>DB11878</th>\n",
       "      <td>-11.284870</td>\n",
       "      <td>-11.179766</td>\n",
       "      <td>-9.651789</td>\n",
       "      <td>-9.736665</td>\n",
       "    </tr>\n",
       "    <tr>\n",
       "      <th>DB12964</th>\n",
       "      <td>-8.593839</td>\n",
       "      <td>-8.863792</td>\n",
       "      <td>-8.100051</td>\n",
       "      <td>-8.446317</td>\n",
       "    </tr>\n",
       "  </tbody>\n",
       "</table>\n",
       "</div>"
      ],
      "text/plain": [
       "                        A          B          D         G\n",
       "DB04060         -7.955521  -7.599298  -8.182141 -8.006505\n",
       "DB04865         -9.013485  -8.502004  -8.059382 -8.504017\n",
       "DB04865Prodrug  -9.001321  -9.019206  -8.785329 -9.070188\n",
       "DB07107         -9.282536  -8.665932  -8.829986 -8.465601\n",
       "DB08500        -10.714903  -9.843508 -10.393474 -9.478694\n",
       "DB08503         -9.473125  -8.453223  -8.998102 -8.277260\n",
       "DB08569         -9.421270  -9.475267  -9.484718 -8.911599\n",
       "DB11878        -11.284870 -11.179766  -9.651789 -9.736665\n",
       "DB12964         -8.593839  -8.863792  -8.100051 -8.446317"
      ]
     },
     "execution_count": 71,
     "metadata": {},
     "output_type": "execute_result"
    }
   ],
   "source": [
    "final"
   ]
  },
  {
   "cell_type": "code",
   "execution_count": null,
   "metadata": {},
   "outputs": [],
   "source": []
  },
  {
   "cell_type": "code",
   "execution_count": 72,
   "metadata": {},
   "outputs": [],
   "source": [
    "from rdkit import Chem\n",
    "from rdkit.Chem import AllChem"
   ]
  },
  {
   "cell_type": "code",
   "execution_count": 79,
   "metadata": {},
   "outputs": [],
   "source": []
  },
  {
   "cell_type": "code",
   "execution_count": 83,
   "metadata": {},
   "outputs": [],
   "source": [
    "mol = mols[0]"
   ]
  },
  {
   "cell_type": "code",
   "execution_count": 84,
   "metadata": {},
   "outputs": [],
   "source": []
  },
  {
   "cell_type": "code",
   "execution_count": 86,
   "metadata": {},
   "outputs": [],
   "source": []
  },
  {
   "cell_type": "code",
   "execution_count": 88,
   "metadata": {},
   "outputs": [
    {
     "data": {
      "text/plain": [
       "71.04718422166317"
      ]
     },
     "execution_count": 88,
     "metadata": {},
     "output_type": "execute_result"
    }
   ],
   "source": [
    "ff.CalcEnergy()"
   ]
  },
  {
   "cell_type": "code",
   "execution_count": 89,
   "metadata": {},
   "outputs": [],
   "source": []
  },
  {
   "cell_type": "code",
   "execution_count": 90,
   "metadata": {},
   "outputs": [
    {
     "data": {
      "text/plain": [
       "67.91197875200889"
      ]
     },
     "execution_count": 90,
     "metadata": {},
     "output_type": "execute_result"
    }
   ],
   "source": [
    "ff.CalcEnergy()"
   ]
  },
  {
   "cell_type": "code",
   "execution_count": 91,
   "metadata": {},
   "outputs": [],
   "source": [
    "minim = AllChem.MMFFOptimizeMolecule(mol)"
   ]
  },
  {
   "cell_type": "code",
   "execution_count": 96,
   "metadata": {},
   "outputs": [],
   "source": [
    "import glob"
   ]
  },
  {
   "cell_type": "code",
   "execution_count": 93,
   "metadata": {},
   "outputs": [],
   "source": [
    "def CalculatePenalty(mol):\n",
    "    mp = AllChem.MMFFGetMoleculeProperties(mol)\n",
    "    ff = AllChem.MMFFGetMoleculeForceField(mol, mp)\n",
    "    sp_ene = ff.CalcEnergy()\n",
    "    minim = AllChem.MMFFOptimizeMolecule(mol)\n",
    "    min_ene = ff.CalcEnergy()\n",
    "    return(sp_ene-min_ene)"
   ]
  },
  {
   "cell_type": "code",
   "execution_count": 106,
   "metadata": {},
   "outputs": [
    {
     "name": "stdout",
     "output_type": "stream",
     "text": [
      "../CAMK2G/docked_DB08503_0.sdf\n",
      "3.135205469654281\n",
      "2.694684386171218\n",
      "4.272944560081342\n",
      "6.065982813728468\n",
      "3.638946224384327\n",
      "3.0504145805849987\n",
      "3.504395539923749\n",
      "3.8313521226602205\n",
      "6.224833332579536\n",
      "../CAMK2G/docked_DB07107_4.sdf\n",
      "3.45331719258661\n",
      "15.739624921320228\n",
      "10.00115145158017\n",
      "10.679556400551292\n",
      "5.537823153131939\n",
      "12.494665367957793\n",
      "15.297130217303334\n",
      "5.184642634140033\n",
      "8.299068801039965\n",
      "../CAMK2G/docked_DB08503_1.sdf\n",
      "8.323732841770692\n",
      "16.564782054390676\n",
      "7.794276245189934\n",
      "7.897833995064616\n",
      "5.869236110721289\n",
      "16.469876752183254\n",
      "18.87983220261509\n",
      "8.462044151413892\n",
      "17.55863805476153\n",
      "../CAMK2G/docked_DB08503_3.sdf\n",
      "6.278904100070932\n",
      "6.04175407252751\n",
      "5.815480489549998\n",
      "5.835977880023663\n",
      "7.263965670941531\n",
      "5.899779241870263\n",
      "5.9145372360458595\n",
      "6.501022435229231\n",
      "5.908761771547759\n",
      "../CAMK2G/docked_DB04865Prodrug_4.sdf\n",
      "../CAMK2G/docked_DB08503_2.sdf\n",
      "13.107479201214218\n",
      "11.799086933805057\n",
      "11.972215876545903\n",
      "12.482072037772895\n",
      "14.04234302504878\n",
      "12.071016649519265\n",
      "12.048528204725955\n",
      "11.299511340010994\n",
      "12.121852225812745\n",
      "../CAMK2G/docked_DB04865Prodrug_1.sdf\n",
      "../CAMK2G/docked_DB07107_3.sdf\n",
      "11.699646451517538\n",
      "15.229148457352721\n",
      "20.41459307723359\n",
      "11.821078943986663\n",
      "6.400260148231695\n",
      "13.714558936528306\n",
      "10.576673806332224\n",
      "12.828297029941382\n",
      "19.746014358766274\n",
      "../CAMK2G/docked_DB07107_2.sdf\n",
      "19.82626683166734\n",
      "11.764494359256389\n",
      "20.53710082197462\n",
      "14.36816693447858\n",
      "8.785042763591463\n",
      "13.084973234746656\n",
      "12.708634359432779\n",
      "10.995173623841055\n",
      "18.59318248571813\n",
      "../CAMK2G/docked_DB04865Prodrug_0.sdf\n",
      "../CAMK2G/docked_DB04865Prodrug_2.sdf\n",
      "../CAMK2G/docked_DB07107_0.sdf\n",
      "48.89293494829681\n",
      "43.19407515198108\n",
      "47.31324202555729\n",
      "54.511226724560416\n",
      "53.311328921583026\n",
      "54.608190765038444\n",
      "50.08906473474531\n",
      "51.41100899249662\n",
      "51.95369656867791\n",
      "../CAMK2G/docked_DB07107_1.sdf\n",
      "37.2610926428064\n",
      "42.72077866876644\n",
      "36.81044411698966\n",
      "43.696954382244115\n",
      "43.62217017566232\n",
      "42.19130196720596\n",
      "33.76266349685281\n",
      "37.83883149085153\n",
      "35.05249106655327\n",
      "../CAMK2G/docked_DB04865Prodrug_3.sdf\n",
      "../CAMK2G/docked_DB08503_4.sdf\n",
      "17.36169105931394\n",
      "17.51857241630134\n",
      "17.830179034771234\n",
      "17.42015878145463\n",
      "17.915082685595422\n",
      "18.27401388245046\n",
      "17.31494099097688\n",
      "17.980201300473766\n",
      "17.84345737370853\n",
      "../CAMK2G/docked_DB08500_1.sdf\n",
      "7.248769839318442\n",
      "7.984518383354725\n",
      "7.289894808281588\n",
      "8.885871512140397\n",
      "6.170106824250269\n",
      "6.311963544931132\n",
      "7.337716933883769\n",
      "7.317229245621519\n",
      "8.577481298641658\n",
      "../CAMK2G/docked_DB08500_0.sdf\n",
      "19.42549260752193\n",
      "18.049196432498533\n",
      "6.547068900291279\n",
      "17.876827522284827\n",
      "20.379306442064433\n",
      "7.012858764178503\n",
      "6.118638832269795\n",
      "16.209029692214102\n",
      "6.807070428176601\n",
      "../CAMK2G/docked_DB11878_4.sdf\n",
      "../CAMK2G/docked_DB08500_2.sdf\n",
      "1.7875068394867668\n",
      "6.404135058254624\n",
      "6.423679273105563\n",
      "6.058655377794736\n",
      "6.258855934267288\n",
      "2.513116889666108\n",
      "0.6714335929820265\n",
      "3.158396056402424\n",
      "3.3241364968722564\n",
      "../CAMK2G/docked_DB08500_3.sdf\n",
      "18.550003342014406\n",
      "16.73447652966547\n",
      "15.997896110459749\n",
      "16.190265812613333\n",
      "15.774311873966298\n",
      "16.315908980549793\n",
      "16.874030995471557\n",
      "16.627431083921962\n",
      "17.50474374367306\n",
      "../CAMK2G/docked_DB11878_3.sdf\n",
      "../CAMK2G/docked_DB11878_2.sdf\n",
      "../CAMK2G/docked_DB11878_0.sdf\n",
      "../CAMK2G/docked_DB08500_4.sdf\n",
      "11.980193362829809\n",
      "11.9748742543499\n",
      "12.066389648077575\n",
      "12.121242502962474\n",
      "11.871978542980017\n",
      "11.67480351064063\n",
      "14.512375340192378\n",
      "12.161270549041262\n",
      "11.606714097324385\n",
      "../CAMK2G/docked_DB11878_1.sdf\n",
      "../CAMK2G/docked_DB04060_2.sdf\n",
      "13.459108246078848\n",
      "11.265322547415614\n",
      "11.701058263623239\n",
      "9.192620371090424\n",
      "10.132088166325588\n",
      "9.994516961911877\n",
      "10.959556134422474\n",
      "12.252640440544525\n",
      "12.02453710391151\n",
      "../CAMK2G/docked_DB08569_0.sdf\n",
      "19.274268513440987\n",
      "20.79854253190672\n",
      "20.112121425019467\n",
      "13.51587677523635\n",
      "20.587656873532353\n",
      "17.890630875947267\n",
      "16.126562480694105\n",
      "19.480629698753205\n",
      "11.119012997954371\n",
      "../CAMK2G/docked_DB12964_3.sdf\n",
      "../CAMK2G/docked_DB12964_2.sdf\n",
      "../CAMK2G/docked_DB08569_1.sdf\n",
      "33.13271666999688\n",
      "24.426252205744163\n",
      "31.837684050212715\n",
      "34.20432184283183\n",
      "34.884215825948615\n",
      "30.696892960548638\n",
      "30.863920081882043\n",
      "30.34337554825308\n",
      "32.842727699494986\n",
      "../CAMK2G/docked_DB04060_3.sdf\n",
      "12.82879145021828\n",
      "13.323898306886178\n",
      "17.184989655200013\n",
      "13.641682447597173\n",
      "14.500002588120132\n",
      "16.63572663954971\n",
      "12.018792546045312\n",
      "18.330700350178162\n",
      "13.7255966956591\n",
      "../CAMK2G/docked_DB04060_1.sdf\n",
      "10.667722606131878\n",
      "14.253585580964277\n",
      "16.277288509449587\n",
      "15.400230427526115\n",
      "7.959915137570938\n",
      "14.481206960052633\n",
      "12.499902139514052\n",
      "11.902901805171538\n",
      "17.026222833101368\n",
      "../CAMK2G/docked_DB08569_3.sdf\n",
      "20.858645426308982\n",
      "22.433346654548302\n",
      "22.415560857453187\n",
      "17.55841510833966\n",
      "17.275769860105044\n",
      "14.214789254429206\n",
      "20.905675390682376\n",
      "21.63234661361105\n",
      "19.487379642828998\n",
      "../CAMK2G/docked_DB12964_0.sdf\n",
      "../CAMK2G/docked_DB12964_1.sdf\n",
      "../CAMK2G/docked_DB08569_2.sdf\n",
      "60.64741309272986\n",
      "62.17630662519872\n",
      "57.59579003687574\n",
      "64.79979367627988\n",
      "57.88034625802479\n",
      "53.9997717405832\n",
      "61.954679719935584\n",
      "55.61364957384812\n",
      "55.66965086053658\n",
      "../CAMK2G/docked_DB04060_0.sdf\n",
      "9.162215818519597\n",
      "9.636740050857709\n",
      "9.19818180358925\n",
      "6.718389618675815\n",
      "8.207382179185544\n",
      "11.375181833811665\n",
      "10.97637174495883\n",
      "8.076214553864762\n",
      "6.705557058701643\n",
      "../CAMK2G/docked_DB04060_4.sdf\n",
      "11.927720095810276\n",
      "14.35798332083909\n",
      "14.53396179524454\n",
      "10.261392226164308\n",
      "19.307179610681683\n",
      "9.889631674162949\n",
      "16.585548990345508\n",
      "11.582314643338385\n",
      "11.952152843352822\n",
      "../CAMK2G/docked_DB12964_4.sdf\n",
      "../CAMK2G/docked_DB08569_4.sdf\n",
      "16.89322146564716\n",
      "17.13013782535235\n",
      "17.40865881057158\n",
      "14.172243838335646\n",
      "14.921472487591615\n",
      "9.747543863328133\n",
      "10.777501172556768\n",
      "10.338157115740074\n",
      "8.128348211060427\n",
      "../CAMK2G/docked_DB04865_3.sdf\n",
      "../CAMK2G/docked_DB04865_2.sdf\n",
      "../CAMK2G/docked_DB04865_0.sdf\n",
      "../CAMK2G/docked_DB04865_1.sdf\n",
      "../CAMK2G/docked_DB04865_4.sdf\n"
     ]
    }
   ],
   "source": [
    "files = glob.glob('../CAMK2G/docked_DB*.sdf')\n",
    "for file in files:\n",
    "    print(file)\n",
    "    mols = [m for m in Chem.SDMolSupplier(file) if m is not None]\n",
    "    for mol in mols: \n",
    "        print(CalculatePenalty(mol))"
   ]
  },
  {
   "cell_type": "code",
   "execution_count": 107,
   "metadata": {},
   "outputs": [],
   "source": [
    "Chem.SDMolSupplier?"
   ]
  },
  {
   "cell_type": "code",
   "execution_count": null,
   "metadata": {},
   "outputs": [],
   "source": []
  }
 ],
 "metadata": {
  "kernelspec": {
   "display_name": "Python 3",
   "language": "python",
   "name": "python3"
  },
  "language_info": {
   "codemirror_mode": {
    "name": "ipython",
    "version": 3
   },
   "file_extension": ".py",
   "mimetype": "text/x-python",
   "name": "python",
   "nbconvert_exporter": "python",
   "pygments_lexer": "ipython3",
   "version": "3.7.0"
  }
 },
 "nbformat": 4,
 "nbformat_minor": 2
}
