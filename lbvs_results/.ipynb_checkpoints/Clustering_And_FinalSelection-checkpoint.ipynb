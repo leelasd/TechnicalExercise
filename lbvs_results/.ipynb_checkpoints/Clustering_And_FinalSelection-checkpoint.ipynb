{
 "cells": [
  {
   "cell_type": "code",
   "execution_count": 7,
   "metadata": {},
   "outputs": [],
   "source": [
    "from rdkit import Chem\n",
    "from rdkit.ML.Cluster import Murtagh\n",
    "from rdkit.Chem import Draw\n",
    "from rdkit.Chem.Draw import IPythonConsole\n",
    "from rdkit.Chem import rdFMCS\n",
    "from rdkit.Chem import AllChem\n",
    "from rdkit.Chem import rdBase,rdMolDescriptors, DataStructs\n",
    "import pandas as pd\n",
    "import rdkit\n",
    "from rdkit.Chem import rdFMCS\n",
    "import numpy as np \n",
    "import matplotlib \n",
    "import matplotlib.pyplot as plt\n",
    "%matplotlib inline"
   ]
  },
  {
   "cell_type": "code",
   "execution_count": 8,
   "metadata": {},
   "outputs": [],
   "source": [
    "tot_sdf_file = './Sel_gt_0.5_and_pki_gt_6p5.sdf'\n",
    "all_mol_list = {x.GetProp('_Name'):x for x in Chem.SDMolSupplier(tot_sdf_file)}\n",
    "df_all = pd.DataFrame.from_dict(all_mol_list,orient='index')\n",
    "df_all.columns = ['molecule']\n",
    "fps = [rdMolDescriptors.GetMorganFingerprintAsBitVect(x,2,nBits=2048) for x in df_all.molecule]\n",
    "np_fps = []\n",
    "for fp in fps:\n",
    "  arr = np.zeros((1,))\n",
    "  DataStructs.ConvertToNumpyArray(fp, arr)\n",
    "  np_fps.append(arr)"
   ]
  },
  {
   "cell_type": "code",
   "execution_count": 9,
   "metadata": {},
   "outputs": [],
   "source": [
    "def ExtraGetClusterReport(mols):\n",
    "    try: \n",
    "        mcs = rdFMCS.FindMCS(mols, threshold=0.8,\n",
    "                             ringMatchesRingOnly=True,completeRingsOnly=False,\n",
    "                             atomCompare=rdkit.Chem.rdFMCS.AtomCompare.CompareElements)\n",
    "        p = Chem.MolFromSmarts(mcs.smartsString)\n",
    "        AllChem.Compute2DCoords(p)\n",
    "        core = Chem.MolFromSmarts(mcs.smartsString)\n",
    "        AllChem.Compute2DCoords(core)\n",
    "        halist = [mol.GetSubstructMatch(core) for mol in mols]\n",
    "    except ValueError: \n",
    "        mcs=None\n",
    "        halist = None\n",
    "    if mcs: \n",
    "        for m in mols: \n",
    "            try: \n",
    "                AllChem.GenerateDepictionMatching2DStructure(m,p)\n",
    "                AllChem.Compute2DCoords(m)\n",
    "            except ValueError: \n",
    "                AllChem.Compute2DCoords(m)\n",
    "    img = Draw.MolsToGridImage(mols,molsPerRow=2,subImgSize=(300,300),highlightAtomLists=halist,\n",
    "                               useSVG=False,legends=[x.GetProp(\"Molecule Name\") for x in mols])\n",
    "    return img"
   ]
  },
  {
   "cell_type": "code",
   "execution_count": 10,
   "metadata": {},
   "outputs": [
    {
     "name": "stderr",
     "output_type": "stream",
     "text": [
      "/Users/leela.dodda/anaconda3/envs/deepchem/lib/python3.7/site-packages/sklearn/utils/__init__.py:4: DeprecationWarning: Using or importing the ABCs from 'collections' instead of from 'collections.abc' is deprecated, and in 3.8 it will stop working\n",
      "  from collections import Sequence\n",
      "/Users/leela.dodda/anaconda3/envs/deepchem/lib/python3.7/site-packages/sklearn/model_selection/_split.py:18: DeprecationWarning: Using or importing the ABCs from 'collections' instead of from 'collections.abc' is deprecated, and in 3.8 it will stop working\n",
      "  from collections import Iterable\n",
      "/Users/leela.dodda/anaconda3/envs/deepchem/lib/python3.7/site-packages/sklearn/model_selection/_search.py:16: DeprecationWarning: Using or importing the ABCs from 'collections' instead of from 'collections.abc' is deprecated, and in 3.8 it will stop working\n",
      "  from collections import Mapping, namedtuple, defaultdict, Sequence\n"
     ]
    }
   ],
   "source": [
    "from sklearn.cluster import MiniBatchKMeans \n",
    "from sklearn.cluster import KMeans \n",
    "from sklearn import metrics"
   ]
  },
  {
   "cell_type": "code",
   "execution_count": 12,
   "metadata": {},
   "outputs": [
    {
     "name": "stderr",
     "output_type": "stream",
     "text": [
      "/Users/leela.dodda/anaconda3/envs/deepchem/lib/python3.7/site-packages/sklearn/cluster/k_means_.py:88: RuntimeWarning: divide by zero encountered in log\n",
      "  n_local_trials = 2 + int(np.log(n_clusters))\n"
     ]
    },
    {
     "ename": "OverflowError",
     "evalue": "cannot convert float infinity to integer",
     "output_type": "error",
     "traceback": [
      "\u001b[0;31m---------------------------------------------------------------------------\u001b[0m",
      "\u001b[0;31mOverflowError\u001b[0m                             Traceback (most recent call last)",
      "\u001b[0;32m<ipython-input-12-aaf5b8549de5>\u001b[0m in \u001b[0;36m<module>\u001b[0;34m\u001b[0m\n\u001b[1;32m      4\u001b[0m \u001b[0;32mfor\u001b[0m \u001b[0miv\u001b[0m \u001b[0;32min\u001b[0m \u001b[0mrange\u001b[0m\u001b[0;34m(\u001b[0m\u001b[0;36m0\u001b[0m\u001b[0;34m,\u001b[0m\u001b[0;36m10\u001b[0m\u001b[0;34m)\u001b[0m\u001b[0;34m:\u001b[0m\u001b[0;34m\u001b[0m\u001b[0m\n\u001b[1;32m      5\u001b[0m     \u001b[0;31m#kmeans_model = MiniBatchKMeans(n_clusters=iv,batch_size=300).fit(X=np_fps)\u001b[0m\u001b[0;34m\u001b[0m\u001b[0;34m\u001b[0m\u001b[0m\n\u001b[0;32m----> 6\u001b[0;31m     \u001b[0mkmeans_model\u001b[0m \u001b[0;34m=\u001b[0m \u001b[0mKMeans\u001b[0m\u001b[0;34m(\u001b[0m\u001b[0mn_clusters\u001b[0m\u001b[0;34m=\u001b[0m\u001b[0miv\u001b[0m\u001b[0;34m)\u001b[0m\u001b[0;34m.\u001b[0m\u001b[0mfit\u001b[0m\u001b[0;34m(\u001b[0m\u001b[0mX\u001b[0m\u001b[0;34m=\u001b[0m\u001b[0mnp_fps\u001b[0m\u001b[0;34m)\u001b[0m\u001b[0;34m\u001b[0m\u001b[0m\n\u001b[0m\u001b[1;32m      7\u001b[0m     \u001b[0mx\u001b[0m\u001b[0;34m,\u001b[0m \u001b[0my\u001b[0m \u001b[0;34m=\u001b[0m \u001b[0;34m(\u001b[0m\u001b[0mkmeans_model\u001b[0m\u001b[0;34m.\u001b[0m\u001b[0mn_clusters\u001b[0m\u001b[0;34m,\u001b[0m\u001b[0mmetrics\u001b[0m\u001b[0;34m.\u001b[0m\u001b[0msilhouette_score\u001b[0m\u001b[0;34m(\u001b[0m\u001b[0mnp_fps\u001b[0m\u001b[0;34m,\u001b[0m \u001b[0mkmeans_model\u001b[0m\u001b[0;34m.\u001b[0m\u001b[0mlabels_\u001b[0m\u001b[0;34m,\u001b[0m\u001b[0mmetric\u001b[0m\u001b[0;34m=\u001b[0m\u001b[0;34m'dice'\u001b[0m\u001b[0;34m)\u001b[0m\u001b[0;34m)\u001b[0m\u001b[0;34m\u001b[0m\u001b[0m\n\u001b[1;32m      8\u001b[0m     \u001b[0mX\u001b[0m\u001b[0;34m.\u001b[0m\u001b[0mappend\u001b[0m\u001b[0;34m(\u001b[0m\u001b[0mx\u001b[0m\u001b[0;34m)\u001b[0m\u001b[0;34m\u001b[0m\u001b[0m\n",
      "\u001b[0;32m~/anaconda3/envs/deepchem/lib/python3.7/site-packages/sklearn/cluster/k_means_.py\u001b[0m in \u001b[0;36mfit\u001b[0;34m(self, X, y)\u001b[0m\n\u001b[1;32m    894\u001b[0m                 \u001b[0mtol\u001b[0m\u001b[0;34m=\u001b[0m\u001b[0mself\u001b[0m\u001b[0;34m.\u001b[0m\u001b[0mtol\u001b[0m\u001b[0;34m,\u001b[0m \u001b[0mrandom_state\u001b[0m\u001b[0;34m=\u001b[0m\u001b[0mrandom_state\u001b[0m\u001b[0;34m,\u001b[0m \u001b[0mcopy_x\u001b[0m\u001b[0;34m=\u001b[0m\u001b[0mself\u001b[0m\u001b[0;34m.\u001b[0m\u001b[0mcopy_x\u001b[0m\u001b[0;34m,\u001b[0m\u001b[0;34m\u001b[0m\u001b[0m\n\u001b[1;32m    895\u001b[0m                 \u001b[0mn_jobs\u001b[0m\u001b[0;34m=\u001b[0m\u001b[0mself\u001b[0m\u001b[0;34m.\u001b[0m\u001b[0mn_jobs\u001b[0m\u001b[0;34m,\u001b[0m \u001b[0malgorithm\u001b[0m\u001b[0;34m=\u001b[0m\u001b[0mself\u001b[0m\u001b[0;34m.\u001b[0m\u001b[0malgorithm\u001b[0m\u001b[0;34m,\u001b[0m\u001b[0;34m\u001b[0m\u001b[0m\n\u001b[0;32m--> 896\u001b[0;31m                 return_n_iter=True)\n\u001b[0m\u001b[1;32m    897\u001b[0m         \u001b[0;32mreturn\u001b[0m \u001b[0mself\u001b[0m\u001b[0;34m\u001b[0m\u001b[0m\n\u001b[1;32m    898\u001b[0m \u001b[0;34m\u001b[0m\u001b[0m\n",
      "\u001b[0;32m~/anaconda3/envs/deepchem/lib/python3.7/site-packages/sklearn/cluster/k_means_.py\u001b[0m in \u001b[0;36mk_means\u001b[0;34m(X, n_clusters, init, precompute_distances, n_init, max_iter, verbose, tol, random_state, copy_x, n_jobs, algorithm, return_n_iter)\u001b[0m\n\u001b[1;32m    344\u001b[0m                 \u001b[0mX\u001b[0m\u001b[0;34m,\u001b[0m \u001b[0mn_clusters\u001b[0m\u001b[0;34m,\u001b[0m \u001b[0mmax_iter\u001b[0m\u001b[0;34m=\u001b[0m\u001b[0mmax_iter\u001b[0m\u001b[0;34m,\u001b[0m \u001b[0minit\u001b[0m\u001b[0;34m=\u001b[0m\u001b[0minit\u001b[0m\u001b[0;34m,\u001b[0m \u001b[0mverbose\u001b[0m\u001b[0;34m=\u001b[0m\u001b[0mverbose\u001b[0m\u001b[0;34m,\u001b[0m\u001b[0;34m\u001b[0m\u001b[0m\n\u001b[1;32m    345\u001b[0m                 \u001b[0mprecompute_distances\u001b[0m\u001b[0;34m=\u001b[0m\u001b[0mprecompute_distances\u001b[0m\u001b[0;34m,\u001b[0m \u001b[0mtol\u001b[0m\u001b[0;34m=\u001b[0m\u001b[0mtol\u001b[0m\u001b[0;34m,\u001b[0m\u001b[0;34m\u001b[0m\u001b[0m\n\u001b[0;32m--> 346\u001b[0;31m                 x_squared_norms=x_squared_norms, random_state=random_state)\n\u001b[0m\u001b[1;32m    347\u001b[0m             \u001b[0;31m# determine if these results are the best so far\u001b[0m\u001b[0;34m\u001b[0m\u001b[0;34m\u001b[0m\u001b[0m\n\u001b[1;32m    348\u001b[0m             \u001b[0;32mif\u001b[0m \u001b[0mbest_inertia\u001b[0m \u001b[0;32mis\u001b[0m \u001b[0;32mNone\u001b[0m \u001b[0;32mor\u001b[0m \u001b[0minertia\u001b[0m \u001b[0;34m<\u001b[0m \u001b[0mbest_inertia\u001b[0m\u001b[0;34m:\u001b[0m\u001b[0;34m\u001b[0m\u001b[0m\n",
      "\u001b[0;32m~/anaconda3/envs/deepchem/lib/python3.7/site-packages/sklearn/cluster/k_means_.py\u001b[0m in \u001b[0;36m_kmeans_single_elkan\u001b[0;34m(X, n_clusters, max_iter, init, verbose, x_squared_norms, random_state, tol, precompute_distances)\u001b[0m\n\u001b[1;32m    393\u001b[0m     \u001b[0;31m# init\u001b[0m\u001b[0;34m\u001b[0m\u001b[0;34m\u001b[0m\u001b[0m\n\u001b[1;32m    394\u001b[0m     centers = _init_centroids(X, n_clusters, init, random_state=random_state,\n\u001b[0;32m--> 395\u001b[0;31m                               x_squared_norms=x_squared_norms)\n\u001b[0m\u001b[1;32m    396\u001b[0m     \u001b[0mcenters\u001b[0m \u001b[0;34m=\u001b[0m \u001b[0mnp\u001b[0m\u001b[0;34m.\u001b[0m\u001b[0mascontiguousarray\u001b[0m\u001b[0;34m(\u001b[0m\u001b[0mcenters\u001b[0m\u001b[0;34m)\u001b[0m\u001b[0;34m\u001b[0m\u001b[0m\n\u001b[1;32m    397\u001b[0m     \u001b[0;32mif\u001b[0m \u001b[0mverbose\u001b[0m\u001b[0;34m:\u001b[0m\u001b[0;34m\u001b[0m\u001b[0m\n",
      "\u001b[0;32m~/anaconda3/envs/deepchem/lib/python3.7/site-packages/sklearn/cluster/k_means_.py\u001b[0m in \u001b[0;36m_init_centroids\u001b[0;34m(X, k, init, random_state, x_squared_norms, init_size)\u001b[0m\n\u001b[1;32m    682\u001b[0m     \u001b[0;32mif\u001b[0m \u001b[0misinstance\u001b[0m\u001b[0;34m(\u001b[0m\u001b[0minit\u001b[0m\u001b[0;34m,\u001b[0m \u001b[0mstring_types\u001b[0m\u001b[0;34m)\u001b[0m \u001b[0;32mand\u001b[0m \u001b[0minit\u001b[0m \u001b[0;34m==\u001b[0m \u001b[0;34m'k-means++'\u001b[0m\u001b[0;34m:\u001b[0m\u001b[0;34m\u001b[0m\u001b[0m\n\u001b[1;32m    683\u001b[0m         centers = _k_init(X, k, random_state=random_state,\n\u001b[0;32m--> 684\u001b[0;31m                           x_squared_norms=x_squared_norms)\n\u001b[0m\u001b[1;32m    685\u001b[0m     \u001b[0;32melif\u001b[0m \u001b[0misinstance\u001b[0m\u001b[0;34m(\u001b[0m\u001b[0minit\u001b[0m\u001b[0;34m,\u001b[0m \u001b[0mstring_types\u001b[0m\u001b[0;34m)\u001b[0m \u001b[0;32mand\u001b[0m \u001b[0minit\u001b[0m \u001b[0;34m==\u001b[0m \u001b[0;34m'random'\u001b[0m\u001b[0;34m:\u001b[0m\u001b[0;34m\u001b[0m\u001b[0m\n\u001b[1;32m    686\u001b[0m         \u001b[0mseeds\u001b[0m \u001b[0;34m=\u001b[0m \u001b[0mrandom_state\u001b[0m\u001b[0;34m.\u001b[0m\u001b[0mpermutation\u001b[0m\u001b[0;34m(\u001b[0m\u001b[0mn_samples\u001b[0m\u001b[0;34m)\u001b[0m\u001b[0;34m[\u001b[0m\u001b[0;34m:\u001b[0m\u001b[0mk\u001b[0m\u001b[0;34m]\u001b[0m\u001b[0;34m\u001b[0m\u001b[0m\n",
      "\u001b[0;32m~/anaconda3/envs/deepchem/lib/python3.7/site-packages/sklearn/cluster/k_means_.py\u001b[0m in \u001b[0;36m_k_init\u001b[0;34m(X, n_clusters, x_squared_norms, random_state, n_local_trials)\u001b[0m\n\u001b[1;32m     86\u001b[0m         \u001b[0;31m# specific results for other than mentioning in the conclusion\u001b[0m\u001b[0;34m\u001b[0m\u001b[0;34m\u001b[0m\u001b[0m\n\u001b[1;32m     87\u001b[0m         \u001b[0;31m# that it helped.\u001b[0m\u001b[0;34m\u001b[0m\u001b[0;34m\u001b[0m\u001b[0m\n\u001b[0;32m---> 88\u001b[0;31m         \u001b[0mn_local_trials\u001b[0m \u001b[0;34m=\u001b[0m \u001b[0;36m2\u001b[0m \u001b[0;34m+\u001b[0m \u001b[0mint\u001b[0m\u001b[0;34m(\u001b[0m\u001b[0mnp\u001b[0m\u001b[0;34m.\u001b[0m\u001b[0mlog\u001b[0m\u001b[0;34m(\u001b[0m\u001b[0mn_clusters\u001b[0m\u001b[0;34m)\u001b[0m\u001b[0;34m)\u001b[0m\u001b[0;34m\u001b[0m\u001b[0m\n\u001b[0m\u001b[1;32m     89\u001b[0m \u001b[0;34m\u001b[0m\u001b[0m\n\u001b[1;32m     90\u001b[0m     \u001b[0;31m# Pick first center randomly\u001b[0m\u001b[0;34m\u001b[0m\u001b[0;34m\u001b[0m\u001b[0m\n",
      "\u001b[0;31mOverflowError\u001b[0m: cannot convert float infinity to integer"
     ]
    }
   ],
   "source": [
    "X = []\n",
    "Y = []\n",
    "Z = []\n",
    "for iv in range(0,10):\n",
    "    #kmeans_model = MiniBatchKMeans(n_clusters=iv,batch_size=300).fit(X=np_fps)  \n",
    "    kmeans_model = KMeans(n_clusters=iv).fit(X=np_fps) \n",
    "    x, y = (kmeans_model.n_clusters,metrics.silhouette_score(np_fps, kmeans_model.labels_,metric='dice'))\n",
    "    X.append(x)\n",
    "    Y.append(y)\n",
    "    Z.append(kmeans_model.inertia_)\n",
    "plt.plot(X,Y)\n"
   ]
  },
  {
   "cell_type": "code",
   "execution_count": 5,
   "metadata": {},
   "outputs": [
    {
     "data": {
      "text/plain": [
       "[<matplotlib.lines.Line2D at 0x123f7c160>]"
      ]
     },
     "execution_count": 5,
     "metadata": {},
     "output_type": "execute_result"
    },
    {
     "data": {
      "image/png": "[encoded data removed]",
      "text/plain": [
       "<Figure size 432x288 with 1 Axes>"
      ]
     },
     "metadata": {
      "needs_background": "light"
     },
     "output_type": "display_data"
    }
   ],
   "source": [
    "plt.plot(X,Z)"
   ]
  },
  {
   "cell_type": "code",
   "execution_count": 6,
   "metadata": {},
   "outputs": [
    {
     "data": {
      "text/plain": [
       "296.5833333333333"
      ]
     },
     "execution_count": 6,
     "metadata": {},
     "output_type": "execute_result"
    }
   ],
   "source": [
    "kmeans_model = KMeans(n_clusters=27).fit(X=np_fps) \n",
    "kmeans_model.inertia_"
   ]
  },
  {
   "cell_type": "code",
   "execution_count": 7,
   "metadata": {},
   "outputs": [
    {
     "data": {
      "text/plain": [
       "(44,)"
      ]
     },
     "execution_count": 7,
     "metadata": {},
     "output_type": "execute_result"
    }
   ],
   "source": [
    "kmeans_model.labels_.shape"
   ]
  },
  {
   "cell_type": "code",
   "execution_count": 8,
   "metadata": {},
   "outputs": [
    {
     "data": {
      "text/html": [
       "<div>\n",
       "<style scoped>\n",
       "    .dataframe tbody tr th:only-of-type {\n",
       "        vertical-align: middle;\n",
       "    }\n",
       "\n",
       "    .dataframe tbody tr th {\n",
       "        vertical-align: top;\n",
       "    }\n",
       "\n",
       "    .dataframe thead th {\n",
       "        text-align: right;\n",
       "    }\n",
       "</style>\n",
       "<table border=\"1\" class=\"dataframe\">\n",
       "  <thead>\n",
       "    <tr style=\"text-align: right;\">\n",
       "      <th></th>\n",
       "      <th>molecule</th>\n",
       "      <th>cluster</th>\n",
       "    </tr>\n",
       "  </thead>\n",
       "  <tbody>\n",
       "    <tr>\n",
       "      <td>SiTX-0025929</td>\n",
       "      <td>&lt;rdkit.Chem.rdchem.Mol object at 0x11f3be350&gt;</td>\n",
       "      <td>13</td>\n",
       "    </tr>\n",
       "    <tr>\n",
       "      <td>SiTX-0025739</td>\n",
       "      <td>&lt;rdkit.Chem.rdchem.Mol object at 0x11f3be3a0&gt;</td>\n",
       "      <td>4</td>\n",
       "    </tr>\n",
       "    <tr>\n",
       "      <td>SiTX-0025724</td>\n",
       "      <td>&lt;rdkit.Chem.rdchem.Mol object at 0x11f3be3f0&gt;</td>\n",
       "      <td>17</td>\n",
       "    </tr>\n",
       "    <tr>\n",
       "      <td>SiTX-0025650</td>\n",
       "      <td>&lt;rdkit.Chem.rdchem.Mol object at 0x11f3be440&gt;</td>\n",
       "      <td>21</td>\n",
       "    </tr>\n",
       "    <tr>\n",
       "      <td>SiTX-0025647</td>\n",
       "      <td>&lt;rdkit.Chem.rdchem.Mol object at 0x11f3be490&gt;</td>\n",
       "      <td>15</td>\n",
       "    </tr>\n",
       "    <tr>\n",
       "      <td>SiTX-0025616</td>\n",
       "      <td>&lt;rdkit.Chem.rdchem.Mol object at 0x11f3be4e0&gt;</td>\n",
       "      <td>1</td>\n",
       "    </tr>\n",
       "    <tr>\n",
       "      <td>SiTX-0025531</td>\n",
       "      <td>&lt;rdkit.Chem.rdchem.Mol object at 0x11f3be530&gt;</td>\n",
       "      <td>24</td>\n",
       "    </tr>\n",
       "    <tr>\n",
       "      <td>SiTX-0025529</td>\n",
       "      <td>&lt;rdkit.Chem.rdchem.Mol object at 0x11f3be580&gt;</td>\n",
       "      <td>9</td>\n",
       "    </tr>\n",
       "    <tr>\n",
       "      <td>SiTX-0025507</td>\n",
       "      <td>&lt;rdkit.Chem.rdchem.Mol object at 0x11f3be5d0&gt;</td>\n",
       "      <td>9</td>\n",
       "    </tr>\n",
       "    <tr>\n",
       "      <td>SiTX-0025490</td>\n",
       "      <td>&lt;rdkit.Chem.rdchem.Mol object at 0x11f3be620&gt;</td>\n",
       "      <td>2</td>\n",
       "    </tr>\n",
       "    <tr>\n",
       "      <td>SiTX-0025438</td>\n",
       "      <td>&lt;rdkit.Chem.rdchem.Mol object at 0x11f3be670&gt;</td>\n",
       "      <td>25</td>\n",
       "    </tr>\n",
       "    <tr>\n",
       "      <td>SiTX-0025346</td>\n",
       "      <td>&lt;rdkit.Chem.rdchem.Mol object at 0x11f3be6c0&gt;</td>\n",
       "      <td>18</td>\n",
       "    </tr>\n",
       "    <tr>\n",
       "      <td>SiTX-0025264</td>\n",
       "      <td>&lt;rdkit.Chem.rdchem.Mol object at 0x11f3be710&gt;</td>\n",
       "      <td>3</td>\n",
       "    </tr>\n",
       "    <tr>\n",
       "      <td>SiTX-0025247</td>\n",
       "      <td>&lt;rdkit.Chem.rdchem.Mol object at 0x11f3be760&gt;</td>\n",
       "      <td>3</td>\n",
       "    </tr>\n",
       "    <tr>\n",
       "      <td>SiTX-0025112</td>\n",
       "      <td>&lt;rdkit.Chem.rdchem.Mol object at 0x11f3be7b0&gt;</td>\n",
       "      <td>4</td>\n",
       "    </tr>\n",
       "    <tr>\n",
       "      <td>SiTX-0025104</td>\n",
       "      <td>&lt;rdkit.Chem.rdchem.Mol object at 0x11f3be800&gt;</td>\n",
       "      <td>6</td>\n",
       "    </tr>\n",
       "    <tr>\n",
       "      <td>SiTX-0025089</td>\n",
       "      <td>&lt;rdkit.Chem.rdchem.Mol object at 0x11f3be850&gt;</td>\n",
       "      <td>23</td>\n",
       "    </tr>\n",
       "    <tr>\n",
       "      <td>SiTX-0025072</td>\n",
       "      <td>&lt;rdkit.Chem.rdchem.Mol object at 0x11f3be8a0&gt;</td>\n",
       "      <td>4</td>\n",
       "    </tr>\n",
       "    <tr>\n",
       "      <td>SiTX-0025060</td>\n",
       "      <td>&lt;rdkit.Chem.rdchem.Mol object at 0x11f3be8f0&gt;</td>\n",
       "      <td>0</td>\n",
       "    </tr>\n",
       "    <tr>\n",
       "      <td>SiTX-0025057</td>\n",
       "      <td>&lt;rdkit.Chem.rdchem.Mol object at 0x11f3be940&gt;</td>\n",
       "      <td>0</td>\n",
       "    </tr>\n",
       "    <tr>\n",
       "      <td>SiTX-0025056</td>\n",
       "      <td>&lt;rdkit.Chem.rdchem.Mol object at 0x11f3be990&gt;</td>\n",
       "      <td>0</td>\n",
       "    </tr>\n",
       "    <tr>\n",
       "      <td>SiTX-0025048</td>\n",
       "      <td>&lt;rdkit.Chem.rdchem.Mol object at 0x11f3be9e0&gt;</td>\n",
       "      <td>15</td>\n",
       "    </tr>\n",
       "    <tr>\n",
       "      <td>SiTX-0025033</td>\n",
       "      <td>&lt;rdkit.Chem.rdchem.Mol object at 0x11f3bea30&gt;</td>\n",
       "      <td>19</td>\n",
       "    </tr>\n",
       "    <tr>\n",
       "      <td>SiTX-0025020</td>\n",
       "      <td>&lt;rdkit.Chem.rdchem.Mol object at 0x11f3bea80&gt;</td>\n",
       "      <td>5</td>\n",
       "    </tr>\n",
       "    <tr>\n",
       "      <td>SiTX-0025019</td>\n",
       "      <td>&lt;rdkit.Chem.rdchem.Mol object at 0x11f3bead0&gt;</td>\n",
       "      <td>5</td>\n",
       "    </tr>\n",
       "    <tr>\n",
       "      <td>SiTX-0024990</td>\n",
       "      <td>&lt;rdkit.Chem.rdchem.Mol object at 0x11f3beb20&gt;</td>\n",
       "      <td>7</td>\n",
       "    </tr>\n",
       "    <tr>\n",
       "      <td>SiTX-0024982</td>\n",
       "      <td>&lt;rdkit.Chem.rdchem.Mol object at 0x11f3beb70&gt;</td>\n",
       "      <td>16</td>\n",
       "    </tr>\n",
       "    <tr>\n",
       "      <td>SiTX-0024967</td>\n",
       "      <td>&lt;rdkit.Chem.rdchem.Mol object at 0x11f3bebc0&gt;</td>\n",
       "      <td>22</td>\n",
       "    </tr>\n",
       "    <tr>\n",
       "      <td>SiTX-0024959</td>\n",
       "      <td>&lt;rdkit.Chem.rdchem.Mol object at 0x11f3bec10&gt;</td>\n",
       "      <td>8</td>\n",
       "    </tr>\n",
       "    <tr>\n",
       "      <td>SiTX-0024933</td>\n",
       "      <td>&lt;rdkit.Chem.rdchem.Mol object at 0x11f3bec60&gt;</td>\n",
       "      <td>14</td>\n",
       "    </tr>\n",
       "    <tr>\n",
       "      <td>SiTX-0024874</td>\n",
       "      <td>&lt;rdkit.Chem.rdchem.Mol object at 0x11f3becb0&gt;</td>\n",
       "      <td>7</td>\n",
       "    </tr>\n",
       "    <tr>\n",
       "      <td>SiTX-0024823</td>\n",
       "      <td>&lt;rdkit.Chem.rdchem.Mol object at 0x11f3bed00&gt;</td>\n",
       "      <td>7</td>\n",
       "    </tr>\n",
       "    <tr>\n",
       "      <td>SiTX-0024750</td>\n",
       "      <td>&lt;rdkit.Chem.rdchem.Mol object at 0x11f3bed50&gt;</td>\n",
       "      <td>10</td>\n",
       "    </tr>\n",
       "    <tr>\n",
       "      <td>SiTX-0024635</td>\n",
       "      <td>&lt;rdkit.Chem.rdchem.Mol object at 0x11f3beda0&gt;</td>\n",
       "      <td>1</td>\n",
       "    </tr>\n",
       "    <tr>\n",
       "      <td>SiTX-0024532</td>\n",
       "      <td>&lt;rdkit.Chem.rdchem.Mol object at 0x11f3bedf0&gt;</td>\n",
       "      <td>20</td>\n",
       "    </tr>\n",
       "    <tr>\n",
       "      <td>SiTX-0024451</td>\n",
       "      <td>&lt;rdkit.Chem.rdchem.Mol object at 0x11f3bee40&gt;</td>\n",
       "      <td>2</td>\n",
       "    </tr>\n",
       "    <tr>\n",
       "      <td>SiTX-0024388</td>\n",
       "      <td>&lt;rdkit.Chem.rdchem.Mol object at 0x11f3bee90&gt;</td>\n",
       "      <td>26</td>\n",
       "    </tr>\n",
       "    <tr>\n",
       "      <td>SiTX-0024382</td>\n",
       "      <td>&lt;rdkit.Chem.rdchem.Mol object at 0x11f3beee0&gt;</td>\n",
       "      <td>17</td>\n",
       "    </tr>\n",
       "    <tr>\n",
       "      <td>SiTX-0024338</td>\n",
       "      <td>&lt;rdkit.Chem.rdchem.Mol object at 0x11f3bef30&gt;</td>\n",
       "      <td>20</td>\n",
       "    </tr>\n",
       "    <tr>\n",
       "      <td>SiTX-0024309</td>\n",
       "      <td>&lt;rdkit.Chem.rdchem.Mol object at 0x11f3bef80&gt;</td>\n",
       "      <td>8</td>\n",
       "    </tr>\n",
       "    <tr>\n",
       "      <td>SiTX-0024296</td>\n",
       "      <td>&lt;rdkit.Chem.rdchem.Mol object at 0x11f41a030&gt;</td>\n",
       "      <td>9</td>\n",
       "    </tr>\n",
       "    <tr>\n",
       "      <td>SiTX-0024275</td>\n",
       "      <td>&lt;rdkit.Chem.rdchem.Mol object at 0x11f41a080&gt;</td>\n",
       "      <td>9</td>\n",
       "    </tr>\n",
       "    <tr>\n",
       "      <td>SiTX-0010243</td>\n",
       "      <td>&lt;rdkit.Chem.rdchem.Mol object at 0x11f41a0d0&gt;</td>\n",
       "      <td>12</td>\n",
       "    </tr>\n",
       "    <tr>\n",
       "      <td>SiTX-0005926</td>\n",
       "      <td>&lt;rdkit.Chem.rdchem.Mol object at 0x11f41a120&gt;</td>\n",
       "      <td>11</td>\n",
       "    </tr>\n",
       "  </tbody>\n",
       "</table>\n",
       "</div>"
      ],
      "text/plain": [
       "                                                   molecule  cluster\n",
       "SiTX-0025929  <rdkit.Chem.rdchem.Mol object at 0x11f3be350>       13\n",
       "SiTX-0025739  <rdkit.Chem.rdchem.Mol object at 0x11f3be3a0>        4\n",
       "SiTX-0025724  <rdkit.Chem.rdchem.Mol object at 0x11f3be3f0>       17\n",
       "SiTX-0025650  <rdkit.Chem.rdchem.Mol object at 0x11f3be440>       21\n",
       "SiTX-0025647  <rdkit.Chem.rdchem.Mol object at 0x11f3be490>       15\n",
       "SiTX-0025616  <rdkit.Chem.rdchem.Mol object at 0x11f3be4e0>        1\n",
       "SiTX-0025531  <rdkit.Chem.rdchem.Mol object at 0x11f3be530>       24\n",
       "SiTX-0025529  <rdkit.Chem.rdchem.Mol object at 0x11f3be580>        9\n",
       "SiTX-0025507  <rdkit.Chem.rdchem.Mol object at 0x11f3be5d0>        9\n",
       "SiTX-0025490  <rdkit.Chem.rdchem.Mol object at 0x11f3be620>        2\n",
       "SiTX-0025438  <rdkit.Chem.rdchem.Mol object at 0x11f3be670>       25\n",
       "SiTX-0025346  <rdkit.Chem.rdchem.Mol object at 0x11f3be6c0>       18\n",
       "SiTX-0025264  <rdkit.Chem.rdchem.Mol object at 0x11f3be710>        3\n",
       "SiTX-0025247  <rdkit.Chem.rdchem.Mol object at 0x11f3be760>        3\n",
       "SiTX-0025112  <rdkit.Chem.rdchem.Mol object at 0x11f3be7b0>        4\n",
       "SiTX-0025104  <rdkit.Chem.rdchem.Mol object at 0x11f3be800>        6\n",
       "SiTX-0025089  <rdkit.Chem.rdchem.Mol object at 0x11f3be850>       23\n",
       "SiTX-0025072  <rdkit.Chem.rdchem.Mol object at 0x11f3be8a0>        4\n",
       "SiTX-0025060  <rdkit.Chem.rdchem.Mol object at 0x11f3be8f0>        0\n",
       "SiTX-0025057  <rdkit.Chem.rdchem.Mol object at 0x11f3be940>        0\n",
       "SiTX-0025056  <rdkit.Chem.rdchem.Mol object at 0x11f3be990>        0\n",
       "SiTX-0025048  <rdkit.Chem.rdchem.Mol object at 0x11f3be9e0>       15\n",
       "SiTX-0025033  <rdkit.Chem.rdchem.Mol object at 0x11f3bea30>       19\n",
       "SiTX-0025020  <rdkit.Chem.rdchem.Mol object at 0x11f3bea80>        5\n",
       "SiTX-0025019  <rdkit.Chem.rdchem.Mol object at 0x11f3bead0>        5\n",
       "SiTX-0024990  <rdkit.Chem.rdchem.Mol object at 0x11f3beb20>        7\n",
       "SiTX-0024982  <rdkit.Chem.rdchem.Mol object at 0x11f3beb70>       16\n",
       "SiTX-0024967  <rdkit.Chem.rdchem.Mol object at 0x11f3bebc0>       22\n",
       "SiTX-0024959  <rdkit.Chem.rdchem.Mol object at 0x11f3bec10>        8\n",
       "SiTX-0024933  <rdkit.Chem.rdchem.Mol object at 0x11f3bec60>       14\n",
       "SiTX-0024874  <rdkit.Chem.rdchem.Mol object at 0x11f3becb0>        7\n",
       "SiTX-0024823  <rdkit.Chem.rdchem.Mol object at 0x11f3bed00>        7\n",
       "SiTX-0024750  <rdkit.Chem.rdchem.Mol object at 0x11f3bed50>       10\n",
       "SiTX-0024635  <rdkit.Chem.rdchem.Mol object at 0x11f3beda0>        1\n",
       "SiTX-0024532  <rdkit.Chem.rdchem.Mol object at 0x11f3bedf0>       20\n",
       "SiTX-0024451  <rdkit.Chem.rdchem.Mol object at 0x11f3bee40>        2\n",
       "SiTX-0024388  <rdkit.Chem.rdchem.Mol object at 0x11f3bee90>       26\n",
       "SiTX-0024382  <rdkit.Chem.rdchem.Mol object at 0x11f3beee0>       17\n",
       "SiTX-0024338  <rdkit.Chem.rdchem.Mol object at 0x11f3bef30>       20\n",
       "SiTX-0024309  <rdkit.Chem.rdchem.Mol object at 0x11f3bef80>        8\n",
       "SiTX-0024296  <rdkit.Chem.rdchem.Mol object at 0x11f41a030>        9\n",
       "SiTX-0024275  <rdkit.Chem.rdchem.Mol object at 0x11f41a080>        9\n",
       "SiTX-0010243  <rdkit.Chem.rdchem.Mol object at 0x11f41a0d0>       12\n",
       "SiTX-0005926  <rdkit.Chem.rdchem.Mol object at 0x11f41a120>       11"
      ]
     },
     "execution_count": 8,
     "metadata": {},
     "output_type": "execute_result"
    }
   ],
   "source": [
    "df_all['cluster'] = kmeans_model.labels_\n",
    "df_all"
   ]
  },
  {
   "cell_type": "code",
   "execution_count": 13,
   "metadata": {},
   "outputs": [
    {
     "data": {
      "image/png": "[encoded data removed]",
      "text/plain": [
       "<PIL.PngImagePlugin.PngImageFile image mode=RGB size=600x600 at 0x1243A6908>"
      ]
     },
     "execution_count": 13,
     "metadata": {},
     "output_type": "execute_result"
    }
   ],
   "source": [
    "### This Gives Hits in Cluster \n",
    "cluster_no = 0\n",
    "mlist = df_all[(df_all.cluster==cluster_no)].molecule\n",
    "#mlist = df_all[(df_all.cluster==cluster_no)&(df_all.label==1)].molecule\n",
    "#Draw.MolsToGridImage(mlist,legends=[x.GetProp(\"Molecule Name\") for x in mlist])\n",
    "ExtraGetClusterReport(mlist)"
   ]
  },
  {
   "cell_type": "code",
   "execution_count": 10,
   "metadata": {},
   "outputs": [
    {
     "data": {
      "text/plain": [
       "cluster\n",
       "0     3\n",
       "1     2\n",
       "2     2\n",
       "3     2\n",
       "4     3\n",
       "5     2\n",
       "6     1\n",
       "7     3\n",
       "8     2\n",
       "9     4\n",
       "10    1\n",
       "11    1\n",
       "12    1\n",
       "13    1\n",
       "14    1\n",
       "15    2\n",
       "16    1\n",
       "17    2\n",
       "18    1\n",
       "19    1\n",
       "20    2\n",
       "21    1\n",
       "22    1\n",
       "23    1\n",
       "24    1\n",
       "25    1\n",
       "26    1\n",
       "Name: cluster, dtype: int64"
      ]
     },
     "execution_count": 10,
     "metadata": {},
     "output_type": "execute_result"
    }
   ],
   "source": [
    "df_all.groupby('cluster')['cluster'].count()"
   ]
  },
  {
   "cell_type": "code",
   "execution_count": 11,
   "metadata": {},
   "outputs": [],
   "source": [
    "def Get3Dfrom2D(m):\n",
    "    m2=Chem.AddHs(m)\n",
    "    AllChem.EmbedMolecule(m2)\n",
    "    AllChem.UFFOptimizeMolecule(m2)\n",
    "    return m2\n",
    "singletons=0\n",
    "for i in range(0,27): \n",
    "    mlist = df_all[(df_all.cluster==i)].molecule\n",
    "    if len(mlist) > 1: \n",
    "        img = ExtraGetClusterReport(mlist)\n",
    "        img.save('ClusteringResults_Kmeans_Clustering/cluster_'+'%d'%(i+1)+'.png')\n",
    "        w_2d = Chem.SDWriter('ClusteringResults_Kmeans_Clustering/cluster_%d.sdf'%(i+1))\n",
    "        for m in mlist: w_2d.write(Get3Dfrom2D(m))\n",
    "        w_2d.close()\n",
    "    else: \n",
    "        singletons =singletons +1"
   ]
  },
  {
   "cell_type": "code",
   "execution_count": 12,
   "metadata": {},
   "outputs": [
    {
     "name": "stdout",
     "output_type": "stream",
     "text": [
      "15\n"
     ]
    }
   ],
   "source": [
    "print(singletons)"
   ]
  },
  {
   "cell_type": "code",
   "execution_count": null,
   "metadata": {},
   "outputs": [],
   "source": []
  }
 ],
 "metadata": {
  "kernelspec": {
   "display_name": "Python 3",
   "language": "python",
   "name": "python3"
  },
  "language_info": {
   "codemirror_mode": {
    "name": "ipython",
    "version": 3
   },
   "file_extension": ".py",
   "mimetype": "text/x-python",
   "name": "python",
   "nbconvert_exporter": "python",
   "pygments_lexer": "ipython3",
   "version": "3.7.0"
  }
 },
 "nbformat": 4,
 "nbformat_minor": 2
}
